{
 "cells": [
  {
   "cell_type": "markdown",
   "metadata": {},
   "source": [
    "Time Complexity - O(m*n)\n",
    "\n",
    "Space Complexity(m)\n",
    "\n",
    "where m is targetSum and n is length of array of numbers"
   ]
  },
  {
   "cell_type": "code",
   "execution_count": 1,
   "metadata": {},
   "outputs": [],
   "source": [
    "def canSumTabulation(targetSum,numbers):\n",
    "    table=[False for _ in range(targetSum+1)]\n",
    "    table[0]=True\n",
    "    for i in range(targetSum+1):\n",
    "        if table[i]==True:\n",
    "            \n",
    "            for j in numbers:\n",
    "                if i +j <= targetSum:\n",
    "                    table[i+j]=True\n",
    "    return table[targetSum]"
   ]
  },
  {
   "cell_type": "code",
   "execution_count": 2,
   "metadata": {},
   "outputs": [
    {
     "data": {
      "text/plain": [
       "False"
      ]
     },
     "execution_count": 2,
     "metadata": {},
     "output_type": "execute_result"
    }
   ],
   "source": [
    "canSumTabulation(300,[7,14])"
   ]
  }
 ],
 "metadata": {
  "kernelspec": {
   "display_name": "Python 3",
   "language": "python",
   "name": "python3"
  },
  "language_info": {
   "codemirror_mode": {
    "name": "ipython",
    "version": 3
   },
   "file_extension": ".py",
   "mimetype": "text/x-python",
   "name": "python",
   "nbconvert_exporter": "python",
   "pygments_lexer": "ipython3",
   "version": "3.9.0"
  }
 },
 "nbformat": 4,
 "nbformat_minor": 4
}
