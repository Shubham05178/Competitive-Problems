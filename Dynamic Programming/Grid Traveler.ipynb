{
 "cells": [
  {
   "cell_type": "markdown",
   "metadata": {},
   "source": [
    "Say that you are a traveler on a grid 2D grid. You begin in the top-left corner and your goal is to travel to the bottom-right corner. You may only move down or right.\n",
    "\n",
    "In how many ways can you travel to the goal on a grid with dimensions m*n ?"
   ]
  },
  {
   "cell_type": "markdown",
   "metadata": {},
   "source": [
    "# Recursion - Brute Force Method\n",
    " Time Complexity - O(2^(m+n))\n",
    " \n",
    " Space Complexity - O(n+m)"
   ]
  },
  {
   "cell_type": "code",
   "execution_count": 1,
   "metadata": {},
   "outputs": [],
   "source": [
    "def GridTravelerbyRec(m,n):\n",
    "    if m==1 and n==1:\n",
    "        return 1\n",
    "    if m==0 or n==0:\n",
    "        return 0\n",
    "    return GridTravelerbyRec(m-1,n)+GridTravelerbyRec(m,n-1)"
   ]
  },
  {
   "cell_type": "code",
   "execution_count": 2,
   "metadata": {},
   "outputs": [
    {
     "data": {
      "text/plain": [
       "48620"
      ]
     },
     "execution_count": 2,
     "metadata": {},
     "output_type": "execute_result"
    }
   ],
   "source": [
    "GridTravelerbyRec(10,10)"
   ]
  },
  {
   "cell_type": "markdown",
   "metadata": {},
   "source": [
    "# Dynamic Programming - (Memoization)\n",
    "Time Complexity  - O(m*n)\n",
    "\n",
    "Space Complexity - O(n+m)"
   ]
  },
  {
   "cell_type": "code",
   "execution_count": 3,
   "metadata": {},
   "outputs": [],
   "source": [
    "def GridTravelerbyDP(m,n,memo={}):\n",
    "    key_1=str(m)+\",\"+str(n)\n",
    "    key_2=str(n)+\",\"+str(m)\n",
    "    if key_1 in memo:\n",
    "        return memo[key_1]\n",
    "    if key_2 in memo:\n",
    "        return memo[key_2]\n",
    "    if m==1 and n==1:\n",
    "        return 1\n",
    "    if m==0 or n==0:\n",
    "        return 0\n",
    "    memo[key_1]=GridTravelerbyDP(m-1,n,memo)+GridTravelerbyDP(m,n-1,memo)\n",
    "    return memo[key_1]\n"
   ]
  },
  {
   "cell_type": "code",
   "execution_count": 4,
   "metadata": {},
   "outputs": [
    {
     "data": {
      "text/plain": [
       "2333606220"
      ]
     },
     "execution_count": 4,
     "metadata": {},
     "output_type": "execute_result"
    }
   ],
   "source": [
    "GridTravelerbyDP(18,18)"
   ]
  }
 ],
 "metadata": {
  "kernelspec": {
   "display_name": "Python 3",
   "language": "python",
   "name": "python3"
  },
  "language_info": {
   "codemirror_mode": {
    "name": "ipython",
    "version": 3
   },
   "file_extension": ".py",
   "mimetype": "text/x-python",
   "name": "python",
   "nbconvert_exporter": "python",
   "pygments_lexer": "ipython3",
   "version": "3.7.6rc1"
  }
 },
 "nbformat": 4,
 "nbformat_minor": 4
}
