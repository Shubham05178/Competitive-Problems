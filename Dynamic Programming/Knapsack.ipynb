{
 "cells": [
  {
   "cell_type": "markdown",
   "id": "a1ed90af",
   "metadata": {},
   "source": [
    "# Tabulation 0/1 Knapsack\n",
    "\n",
    "Recursive calls - ❌\n",
    "\n",
    "Table - ✅"
   ]
  },
  {
   "cell_type": "code",
   "execution_count": 11,
   "id": "efbbb5f8",
   "metadata": {},
   "outputs": [
    {
     "data": {
      "text/plain": [
       "200"
      ]
     },
     "execution_count": 11,
     "metadata": {},
     "output_type": "execute_result"
    }
   ],
   "source": [
    "def KnapsackDP(w,v,W,n):\n",
    "    for i in range(1,n+1):\n",
    "        for j in range(1,W+1):\n",
    "            if w[i-1]<=j:\n",
    "                dp[i][j]=max(v[i-1]+dp[i-1][j-w[i-1]],dp[i-1][j])\n",
    "            else:\n",
    "                dp[i][j]=dp[i-1][j]\n",
    "    return dp[n][W]\n",
    "            \n",
    "    \n",
    "w=[ 1, 2, 3, 8, 7, 4 , 1, 2, 3, 8, 7, 4 , 1, 2, 3, 8, 7, 4  ]\n",
    "v=[ 20, 5, 10, 40, 15, 25,20, 5, 10, 40, 15, 25,20, 5, 10, 40, 15, 25]\n",
    "n=len(w)\n",
    "W=30\n",
    "dp=[[0 for _ in range(W+1)]for _ in range(n+1)]\n",
    "KnapsackDP(w,v,W,n)"
   ]
  },
  {
   "cell_type": "markdown",
   "id": "d13968bf",
   "metadata": {},
   "source": [
    "# Memoized  0/1 Knapsack\n",
    "\n",
    "Recursive calls - ✅\n",
    "\n",
    "Table - ✅"
   ]
  },
  {
   "cell_type": "code",
   "execution_count": 12,
   "id": "56c8ce11",
   "metadata": {},
   "outputs": [
    {
     "data": {
      "text/plain": [
       "200"
      ]
     },
     "execution_count": 12,
     "metadata": {},
     "output_type": "execute_result"
    }
   ],
   "source": [
    "def KnapsackDP(w,v,W,n):\n",
    "    if n==0 or W==0:\n",
    "        return 0\n",
    "    if dp[n][W]!=-1:\n",
    "        return dp[n][W]\n",
    "    if w[n-1]<=W:\n",
    "        dp[n][W] = max(v[n-1]+KnapsackDP(w,v,W-w[n-1],n-1), KnapsackDP(w,v,W,n-1))\n",
    "        return dp[n][W]\n",
    "    elif w[n-1]>W:\n",
    "        dp[n][W]=KnapsackDP(w,v,W,n-1)\n",
    "        return dp[n][W]\n",
    "    \n",
    "w=[ 1, 2, 3, 8, 7, 4 , 1, 2, 3, 8, 7, 4 , 1, 2, 3, 8, 7, 4  ]\n",
    "v=[ 20, 5, 10, 40, 15, 25,20, 5, 10, 40, 15, 25,20, 5, 10, 40, 15, 25]\n",
    "n=len(w)\n",
    "W=30\n",
    "\n",
    "\n",
    "dp=[[-1 for _ in range(W+1)]for _ in range(n+1)]\n",
    "KnapsackDP(w,v,W,n)"
   ]
  },
  {
   "cell_type": "markdown",
   "id": "ffb6a2aa",
   "metadata": {},
   "source": [
    "# Recursive 0/1 Knapsack\n",
    "\n",
    "Recursive calls - ✅\n",
    "\n",
    "Table -  ❌"
   ]
  },
  {
   "cell_type": "code",
   "execution_count": 13,
   "id": "426dd8a3",
   "metadata": {},
   "outputs": [
    {
     "data": {
      "text/plain": [
       "200"
      ]
     },
     "execution_count": 13,
     "metadata": {},
     "output_type": "execute_result"
    }
   ],
   "source": [
    "def Knapsack(w,v,W,n):\n",
    "    if n==0 or W==0:\n",
    "        return 0\n",
    "    if w[n-1]<=W:\n",
    "        return max(v[n-1]+Knapsack(w,v,W-w[n-1],n-1), Knapsack(w,v,W,n-1))\n",
    "    elif w[n-1]>W:\n",
    "        return Knapsack(w,v,W,n-1)\n",
    "w=[ 1, 2, 3, 8, 7, 4 , 1, 2, 3, 8, 7, 4 , 1, 2, 3, 8, 7, 4  ]\n",
    "v=[ 20, 5, 10, 40, 15, 25,20, 5, 10, 40, 15, 25,20, 5, 10, 40, 15, 25]\n",
    "W=30\n",
    "n=len(w)\n",
    "n=len(w)\n",
    "Knapsack(w,v,W,n)\n"
   ]
  }
 ],
 "metadata": {
  "kernelspec": {
   "display_name": "Python 3 (ipykernel)",
   "language": "python",
   "name": "python3"
  },
  "language_info": {
   "codemirror_mode": {
    "name": "ipython",
    "version": 3
   },
   "file_extension": ".py",
   "mimetype": "text/x-python",
   "name": "python",
   "nbconvert_exporter": "python",
   "pygments_lexer": "ipython3",
   "version": "3.9.7"
  }
 },
 "nbformat": 4,
 "nbformat_minor": 5
}
