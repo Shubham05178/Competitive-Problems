{
 "cells": [
  {
   "cell_type": "markdown",
   "metadata": {},
   "source": [
    "Time Complexity - O(m*m*n)\n",
    "\n",
    "Space Complexity(m*m)\n",
    "\n",
    "where m is targetSum and n is length of array of numbers"
   ]
  },
  {
   "cell_type": "markdown",
   "metadata": {},
   "source": [
    "# Provide any one solution if possible"
   ]
  },
  {
   "cell_type": "code",
   "execution_count": 1,
   "metadata": {},
   "outputs": [],
   "source": [
    "def howSumTabulation(targetSum,numbers):\n",
    "    table=[None  for _ in range(targetSum+1)]\n",
    "    table[0]=[]\n",
    "    for i in range(targetSum+1):\n",
    "        if table[i]!=None:    \n",
    "            for j in numbers:\n",
    "                if i +j <= targetSum and table[targetSum] ==None:\n",
    "                    table[i+j]=table[i]+[j]\n",
    "    return table[targetSum]"
   ]
  },
  {
   "cell_type": "code",
   "execution_count": 2,
   "metadata": {},
   "outputs": [
    {
     "data": {
      "text/plain": [
       "[3, 4]"
      ]
     },
     "execution_count": 2,
     "metadata": {},
     "output_type": "execute_result"
    }
   ],
   "source": [
    "howSumTabulation(7,[5,3,4 ,14])"
   ]
  },
  {
   "cell_type": "markdown",
   "metadata": {},
   "source": [
    "# Provide all Solutions"
   ]
  },
  {
   "cell_type": "code",
   "execution_count": 3,
   "metadata": {},
   "outputs": [],
   "source": [
    "def howSumTabulation(targetSum,numbers):\n",
    "    table=[None  for _ in range(targetSum+1)]\n",
    "    table[0]=[[]]\n",
    "    for i in range(targetSum+1):\n",
    "        if table[i]!=None:    \n",
    "            for j in numbers:\n",
    "                if i +j <= targetSum:\n",
    "                    for jj in table[i]:\n",
    "                        if table[i+j]==None:\n",
    "                            table[i+j]=[jj+[j]]\n",
    "                        else:\n",
    "                            table[i+j].append(jj+[j])\n",
    "    return table[targetSum]"
   ]
  },
  {
   "cell_type": "code",
   "execution_count": 4,
   "metadata": {},
   "outputs": [
    {
     "data": {
      "text/plain": [
       "[[3, 5], [4, 4], [5, 3]]"
      ]
     },
     "execution_count": 4,
     "metadata": {},
     "output_type": "execute_result"
    }
   ],
   "source": [
    "howSumTabulation(8,[5,3,4 ,14])"
   ]
  }
 ],
 "metadata": {
  "kernelspec": {
   "display_name": "Python 3",
   "language": "python",
   "name": "python3"
  },
  "language_info": {
   "codemirror_mode": {
    "name": "ipython",
    "version": 3
   },
   "file_extension": ".py",
   "mimetype": "text/x-python",
   "name": "python",
   "nbconvert_exporter": "python",
   "pygments_lexer": "ipython3",
   "version": "3.9.0"
  }
 },
 "nbformat": 4,
 "nbformat_minor": 4
}
