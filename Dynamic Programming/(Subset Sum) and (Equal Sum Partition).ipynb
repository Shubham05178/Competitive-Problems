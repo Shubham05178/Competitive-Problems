{
 "cells": [
  {
   "cell_type": "markdown",
   "id": "eb759b7f",
   "metadata": {},
   "source": [
    "# Subset Sum"
   ]
  },
  {
   "cell_type": "code",
   "execution_count": 1,
   "id": "0141d69b",
   "metadata": {
    "scrolled": true
   },
   "outputs": [
    {
     "data": {
      "text/plain": [
       "True"
      ]
     },
     "execution_count": 1,
     "metadata": {},
     "output_type": "execute_result"
    }
   ],
   "source": [
    "def subsetSum(arr,S):\n",
    "    dp=[[False for _ in range(S+1)] for _ in range(len(arr)+1)]\n",
    "    for i in range(len(arr)+1):\n",
    "        for j in range(S+1):\n",
    "            if j==0:\n",
    "                dp[i][j]=True\n",
    "            if i ==0:\n",
    "                continue\n",
    "            if arr[i-1]<=j:\n",
    "                dp[i][j]=dp[i-1][j-arr[i-1]] or dp[i-1][j]\n",
    "            else:\n",
    "                dp[i][j]=dp[i-1][j]\n",
    "    return dp[len(arr)][S]\n",
    "    \n",
    "\n",
    "S=10\n",
    "arr=[23,43,45,78,9,8,7,2,3]\n",
    "subsetSum(arr,S)"
   ]
  },
  {
   "cell_type": "markdown",
   "id": "bb5b2d0d",
   "metadata": {},
   "source": [
    "# Equal Sum Partiton"
   ]
  },
  {
   "cell_type": "code",
   "execution_count": 2,
   "id": "1c409f2b",
   "metadata": {},
   "outputs": [
    {
     "data": {
      "text/plain": [
       "True"
      ]
     },
     "execution_count": 2,
     "metadata": {},
     "output_type": "execute_result"
    }
   ],
   "source": [
    "arr=[1,1,4,5,1]\n",
    "\n",
    "def equalSumPartiton(arr):\n",
    "    S=sum(arr)\n",
    "    if S%2==0:\n",
    "        return subsetSum(arr,int(S/2))\n",
    "    else:\n",
    "        return False\n",
    "equalSumPartiton(arr)"
   ]
  }
 ],
 "metadata": {
  "kernelspec": {
   "display_name": "Python 3 (ipykernel)",
   "language": "python",
   "name": "python3"
  },
  "language_info": {
   "codemirror_mode": {
    "name": "ipython",
    "version": 3
   },
   "file_extension": ".py",
   "mimetype": "text/x-python",
   "name": "python",
   "nbconvert_exporter": "python",
   "pygments_lexer": "ipython3",
   "version": "3.9.7"
  }
 },
 "nbformat": 4,
 "nbformat_minor": 5
}
