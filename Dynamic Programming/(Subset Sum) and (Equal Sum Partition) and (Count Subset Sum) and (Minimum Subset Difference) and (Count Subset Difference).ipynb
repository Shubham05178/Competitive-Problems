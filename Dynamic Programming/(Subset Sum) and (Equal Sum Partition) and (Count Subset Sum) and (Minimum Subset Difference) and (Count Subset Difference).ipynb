{
 "cells": [
  {
   "cell_type": "markdown",
   "id": "6d933139",
   "metadata": {},
   "source": [
    "# Subset Sum"
   ]
  },
  {
   "cell_type": "code",
   "execution_count": 1,
   "id": "bf1b0076",
   "metadata": {
    "scrolled": true
   },
   "outputs": [
    {
     "data": {
      "text/plain": [
       "True"
      ]
     },
     "execution_count": 1,
     "metadata": {},
     "output_type": "execute_result"
    }
   ],
   "source": [
    "def subsetSum(arr,S):\n",
    "    dp=[[False for _ in range(S+1)] for _ in range(len(arr)+1)]\n",
    "    for i in range(len(arr)+1):\n",
    "        for j in range(S+1):\n",
    "            if j==0:\n",
    "                dp[i][j]=True\n",
    "            if i ==0:\n",
    "                continue\n",
    "            if arr[i-1]<=j:\n",
    "                dp[i][j]=dp[i-1][j-arr[i-1]] or dp[i-1][j]\n",
    "            else:\n",
    "                dp[i][j]=dp[i-1][j]\n",
    "    return dp[len(arr)][S]\n",
    "    \n",
    "\n",
    "S=10\n",
    "arr=[23,43,45,78,9,8,7,2,3]\n",
    "subsetSum(arr,S)"
   ]
  },
  {
   "cell_type": "markdown",
   "id": "c89dc1c6",
   "metadata": {},
   "source": [
    "# Equal Sum Partiton"
   ]
  },
  {
   "cell_type": "code",
   "execution_count": 2,
   "id": "a0a3fca0",
   "metadata": {},
   "outputs": [
    {
     "data": {
      "text/plain": [
       "True"
      ]
     },
     "execution_count": 2,
     "metadata": {},
     "output_type": "execute_result"
    }
   ],
   "source": [
    "arr=[1,1,4,5,1]\n",
    "\n",
    "def equalSumPartiton(arr):\n",
    "    S=sum(arr)\n",
    "    if S%2==0:\n",
    "        return subsetSum(arr,int(S/2))\n",
    "    else:\n",
    "        return False\n",
    "equalSumPartiton(arr)"
   ]
  },
  {
   "cell_type": "markdown",
   "id": "d53bbdd9",
   "metadata": {},
   "source": [
    "# Count Subset Sum"
   ]
  },
  {
   "cell_type": "code",
   "execution_count": 3,
   "id": "2d8a0ebf",
   "metadata": {},
   "outputs": [
    {
     "data": {
      "text/plain": [
       "3"
      ]
     },
     "execution_count": 3,
     "metadata": {},
     "output_type": "execute_result"
    }
   ],
   "source": [
    "def countSubsetSum(arr,S):\n",
    "    dp=[[0 for _ in range(S+1)] for _ in range(len(arr)+1)]\n",
    "    for i in range(len(arr)+1):\n",
    "        for j in range(S+1):\n",
    "            if j==0:\n",
    "                dp[i][j]=1\n",
    "            if i ==0:\n",
    "                continue\n",
    "            if arr[i-1]<=j:\n",
    "                dp[i][j]=dp[i-1][j-arr[i-1]] + dp[i-1][j]\n",
    "            else:\n",
    "                dp[i][j]=dp[i-1][j]\n",
    "    return dp[len(arr)][S]\n",
    "    \n",
    "\n",
    "S=10\n",
    "arr=[2,3,5,6,8,10]\n",
    "countSubsetSum(arr,S)"
   ]
  },
  {
   "cell_type": "markdown",
   "id": "98409996",
   "metadata": {},
   "source": [
    "# Minimum Subset Difference\n",
    "\n",
    "recursive approach"
   ]
  },
  {
   "cell_type": "code",
   "execution_count": 4,
   "id": "8c68d1b1",
   "metadata": {},
   "outputs": [
    {
     "data": {
      "text/plain": [
       "1"
      ]
     },
     "execution_count": 4,
     "metadata": {},
     "output_type": "execute_result"
    }
   ],
   "source": [
    "def minimumSubsetDifference(arr,S1,S2,n):\n",
    "    if n==0:\n",
    "        return abs(S1-S2)\n",
    "    temp=arr[n-1]\n",
    "    return min(minimumSubsetDifference(arr,S1,S2,n-1),minimumSubsetDifference(arr,S1-temp,S2+temp,n-1))\n",
    "\n",
    "arr=[1,6,5,11]\n",
    "S=sum(arr)\n",
    "mindiff=S\n",
    "x=minimumSubsetDifference(arr,S,0,len(arr))\n",
    "x"
   ]
  },
  {
   "cell_type": "code",
   "execution_count": 5,
   "id": "ea726d26",
   "metadata": {},
   "outputs": [
    {
     "data": {
      "text/plain": [
       "1"
      ]
     },
     "execution_count": 5,
     "metadata": {},
     "output_type": "execute_result"
    }
   ],
   "source": [
    "def minimumSubsetDifference(arr,S1,n):\n",
    "    if n==0:\n",
    "        return abs(S1-(sum(arr)-S1))\n",
    "\n",
    "    return min(minimumSubsetDifference(arr,S1,n-1),minimumSubsetDifference(arr,S1-arr[n-1],n-1))\n",
    "\n",
    "arr=[1,6,5,11]\n",
    "S=sum(arr)\n",
    "mindiff=S\n",
    "x=minimumSubsetDifference(arr,S,len(arr))\n",
    "x\n"
   ]
  },
  {
   "cell_type": "markdown",
   "id": "e7fb2e75",
   "metadata": {},
   "source": [
    "# Using DP \n",
    "\n",
    "Using our past problem Submet Sum"
   ]
  },
  {
   "cell_type": "code",
   "execution_count": 6,
   "id": "d6082f7d",
   "metadata": {},
   "outputs": [
    {
     "data": {
      "text/plain": [
       "1"
      ]
     },
     "execution_count": 6,
     "metadata": {},
     "output_type": "execute_result"
    }
   ],
   "source": [
    "def subsetSum(arr,S):\n",
    "    \n",
    "    dp=[[False for _ in range(S+1)] for _ in range(len(arr)+1)]\n",
    "    for i in range(len(arr)+1):\n",
    "        for j in range(S+1):\n",
    "            if j==0:\n",
    "                dp[i][j]=True\n",
    "            if i ==0:\n",
    "                continue\n",
    "            if arr[i-1]<=j:\n",
    "                dp[i][j]=dp[i-1][j-arr[i-1]] or dp[i-1][j]\n",
    "            else:\n",
    "                dp[i][j]=dp[i-1][j]\n",
    "    return dp[len(arr)]\n",
    "\n",
    "\n",
    "def minimumSubsetDifference(arr):\n",
    "    S=sum(arr)\n",
    "    dp=subsetSum(arr,S)\n",
    "    minf=S\n",
    "    for i in range((len(dp)//2) + 1):\n",
    "        if dp[i]:\n",
    "            minf=min(minf,abs(S-(i+i)))\n",
    "\n",
    "    return minf\n",
    "arr=[1,6,5,11]\n",
    "minimumSubsetDifference(arr)\n"
   ]
  },
  {
   "cell_type": "markdown",
   "id": "98cda8d2",
   "metadata": {},
   "source": [
    "# Count Subset Difference"
   ]
  },
  {
   "cell_type": "code",
   "execution_count": 7,
   "id": "583bc073",
   "metadata": {},
   "outputs": [
    {
     "data": {
      "text/plain": [
       "3"
      ]
     },
     "execution_count": 7,
     "metadata": {},
     "output_type": "execute_result"
    }
   ],
   "source": [
    "def countSubsetSum(arr,S):\n",
    "    dp=[[0 for _ in range(S+1)] for _ in range(len(arr)+1)]\n",
    "    for i in range(len(arr)+1):\n",
    "        for j in range(S+1):\n",
    "            if j==0:\n",
    "                dp[i][j]=1\n",
    "            if i ==0:\n",
    "                continue\n",
    "            if arr[i-1]<=j:\n",
    "                dp[i][j]=dp[i-1][j-arr[i-1]] + dp[i-1][j]\n",
    "            else:\n",
    "                dp[i][j]=dp[i-1][j]\n",
    "    return dp[len(arr)][S]\n",
    "def countSubsetDifference(arr,S):\n",
    "        S1=sum(arr)\n",
    "        return countSubsetSum(arr,(S1+S)//2)\n",
    "countSubsetDifference([1,1,2,3],1)"
   ]
  },
  {
   "cell_type": "code",
   "execution_count": null,
   "id": "57178f95",
   "metadata": {},
   "outputs": [],
   "source": []
  }
 ],
 "metadata": {
  "kernelspec": {
   "display_name": "Python 3 (ipykernel)",
   "language": "python",
   "name": "python3"
  },
  "language_info": {
   "codemirror_mode": {
    "name": "ipython",
    "version": 3
   },
   "file_extension": ".py",
   "mimetype": "text/x-python",
   "name": "python",
   "nbconvert_exporter": "python",
   "pygments_lexer": "ipython3",
   "version": "3.9.7"
  }
 },
 "nbformat": 4,
 "nbformat_minor": 5
}
