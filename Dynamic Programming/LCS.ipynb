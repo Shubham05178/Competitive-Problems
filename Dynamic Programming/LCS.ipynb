{
 "cells": [
  {
   "cell_type": "markdown",
   "id": "068dc113",
   "metadata": {},
   "source": [
    "# Longest Common Subsequence Length (Recursive Approach)"
   ]
  },
  {
   "cell_type": "code",
   "execution_count": 1,
   "id": "eaf03abe",
   "metadata": {},
   "outputs": [
    {
     "data": {
      "text/plain": [
       "5"
      ]
     },
     "execution_count": 1,
     "metadata": {},
     "output_type": "execute_result"
    }
   ],
   "source": [
    "def LCSLength(x,y,n,m):\n",
    "    if n==0 or m==0:\n",
    "        return 0\n",
    "    if x[n-1]==y[m-1]:\n",
    "        return 1+LCSLength(x,y,n-1,m-1)\n",
    "    else:\n",
    "        return max(LCSLength(x,y,n-1,m),LCSLength(x,y,n,m-1))\n",
    "    \n",
    "x=\"naaria\"\n",
    "y=\"nagara\"\n",
    "LCSLength(x,y,len(x),len(y))"
   ]
  },
  {
   "cell_type": "markdown",
   "id": "98358906",
   "metadata": {},
   "source": [
    "# Longest Common Subsequence Length (Memoized Approach - Bottom Up Approach)"
   ]
  },
  {
   "cell_type": "code",
   "execution_count": 2,
   "id": "704ca24c",
   "metadata": {},
   "outputs": [
    {
     "data": {
      "text/plain": [
       "3"
      ]
     },
     "execution_count": 2,
     "metadata": {},
     "output_type": "execute_result"
    }
   ],
   "source": [
    "def LCSLength(x,y,n,m):\n",
    "    if dp[n][m]!=-1:\n",
    "        return dp[n][m]\n",
    "    if n==0 or m==0:\n",
    "        return 0\n",
    "    if x[n-1]==y[m-1]:\n",
    "        dp[n][m]=1+LCSLength(x,y,n-1,m-1)\n",
    "        return dp[n][m]\n",
    "    else:\n",
    "        dp[n][m]=max(LCSLength(x,y,n-1,m),LCSLength(x,y,n,m-1))\n",
    "        return dp[n][m]\n",
    "\n",
    "    \n",
    "x=\"abcrbb\"\n",
    "y=\"bbbr\"\n",
    "n=len(x)\n",
    "m=len(y)\n",
    "dp=[[-1 for _ in range (m+1)]for _ in range(n+1)]\n",
    "LCSLength(x,y,n,m)"
   ]
  },
  {
   "cell_type": "markdown",
   "id": "e816b6a6",
   "metadata": {},
   "source": [
    "# Longest Common Subsequence Length (Tabulation Approach - Top Down Approach)\n"
   ]
  },
  {
   "cell_type": "code",
   "execution_count": 3,
   "id": "85931729",
   "metadata": {},
   "outputs": [
    {
     "data": {
      "text/plain": [
       "5"
      ]
     },
     "execution_count": 3,
     "metadata": {},
     "output_type": "execute_result"
    }
   ],
   "source": [
    "def LCSLength(x,y,n,m):\n",
    "    dp=[[0 for _ in range (m+1)]for _ in range(n+1)]\n",
    "    for i in range(1,n+1):\n",
    "        for j in range(1,m+1):\n",
    "            if x[i-1]==y[j-1]:\n",
    "                dp[i][j]=1+dp[i-1][j-1]\n",
    "            else:\n",
    "                dp[i][j]=max(dp[i-1][j],dp[i][j-1])\n",
    "    return dp[n][m]\n",
    "    \n",
    "x=\"abcdef\"\n",
    "y=\"mapbidlepf\"\n",
    "n=len(x)\n",
    "m=len(y)\n",
    "LCSLength(x,y,n,m)"
   ]
  },
  {
   "cell_type": "markdown",
   "id": "d46efd3f",
   "metadata": {},
   "source": [
    "# Longest Common Substring Length (Tabulation Approach - Top Down Approach)"
   ]
  },
  {
   "cell_type": "code",
   "execution_count": 4,
   "id": "fd725ea2",
   "metadata": {
    "scrolled": true
   },
   "outputs": [
    {
     "data": {
      "text/plain": [
       "3"
      ]
     },
     "execution_count": 4,
     "metadata": {},
     "output_type": "execute_result"
    }
   ],
   "source": [
    "def LCSubstringLength(x,y,n,m):\n",
    "    dp=[[0 for _ in range (m+1)]for _ in range(n+1)]\n",
    "    maximum=0\n",
    "    for i in range(1,n+1):\n",
    "        for j in range(1,m+1):\n",
    "            if x[i-1]==y[j-1]:\n",
    "                dp[i][j]=1+dp[i-1][j-1]\n",
    "                if dp[i][j]>maximum:\n",
    "                    maximum=dp[i][j]\n",
    "            else:\n",
    "                dp[i][j]=0\n",
    "    return maximum\n",
    "    \n",
    "x=\"abcrdef\"\n",
    "y=\"abrcdef\"\n",
    "n=len(x)\n",
    "m=len(y)\n",
    "LCSubstringLength(x,y,n,m)"
   ]
  },
  {
   "cell_type": "markdown",
   "id": "89bcf898",
   "metadata": {},
   "source": [
    "# Longest Common Subsequence - Print the Subsequence"
   ]
  },
  {
   "cell_type": "code",
   "execution_count": 5,
   "id": "f97281b3",
   "metadata": {},
   "outputs": [
    {
     "data": {
      "text/plain": [
       "'abdef'"
      ]
     },
     "execution_count": 5,
     "metadata": {},
     "output_type": "execute_result"
    }
   ],
   "source": [
    "def LCSTable(x,y,n,m):\n",
    "    dp=[[0 for _ in range (m+1)]for _ in range(n+1)]\n",
    "    for i in range(1,n+1):\n",
    "        for j in range(1,m+1):\n",
    "            if x[i-1]==y[j-1]:\n",
    "                dp[i][j]=1+dp[i-1][j-1]\n",
    "            else:\n",
    "                dp[i][j]=max(dp[i-1][j],dp[i][j-1])\n",
    "    return dp\n",
    "def LCSPrint(x,y,n,m):\n",
    "    dp=LCSTable(x,y,n,m)\n",
    "    i=n\n",
    "    j=m\n",
    "    s=\"\"\n",
    "    while(i>0 and j>0):\n",
    "        if x[i-1]==y[j-1]:\n",
    "            s+=x[i-1]\n",
    "            i-=1\n",
    "            j-=1\n",
    "        else:\n",
    "            if dp[i-1][j]>dp[i][j-1]:\n",
    "                i-=1\n",
    "            else:\n",
    "                j-=1\n",
    "    return s[::-1]\n",
    "    \n",
    "x=\"abcdef\"\n",
    "y=\"apbidlepf\"\n",
    "n=len(x)\n",
    "m=len(y)\n",
    "LCSPrint(x,y,n,m)"
   ]
  },
  {
   "cell_type": "markdown",
   "id": "920c1e73",
   "metadata": {},
   "source": [
    "# Shortest Common Supersequence - Length "
   ]
  },
  {
   "cell_type": "code",
   "execution_count": 6,
   "id": "d80b8825",
   "metadata": {},
   "outputs": [
    {
     "data": {
      "text/plain": [
       "7"
      ]
     },
     "execution_count": 6,
     "metadata": {},
     "output_type": "execute_result"
    }
   ],
   "source": [
    "def LCSLength(x,y,n,m):\n",
    "    if n==0 or m==0:\n",
    "        return 0\n",
    "    if x[n-1]==y[m-1]:\n",
    "        return 1+LCSLength(x,y,n-1,m-1)\n",
    "    else:\n",
    "        return max(LCSLength(x,y,n-1,m),LCSLength(x,y,n,m-1))\n",
    "\n",
    "def SCSupersequence(x,y):\n",
    "    n,m=len(x),len(y)\n",
    "    c=LCSLength(x,y,n,m)\n",
    "    c=m+n-c\n",
    "    # c= m+n-c or c+=(n-c)+(m-c)\n",
    "    return c\n",
    "x=\"nagaria\"\n",
    "y=\"nagara\"\n",
    "SCSupersequence(x,y)"
   ]
  },
  {
   "cell_type": "markdown",
   "id": "616378c1",
   "metadata": {},
   "source": [
    "# Minimum Number of insertion and deletion to convert String A-> String B"
   ]
  },
  {
   "cell_type": "code",
   "execution_count": 7,
   "id": "b8f30a26",
   "metadata": {},
   "outputs": [
    {
     "name": "stdout",
     "output_type": "stream",
     "text": [
      "Insertions: 1 , Deletions: 2\n"
     ]
    }
   ],
   "source": [
    "def LCSLength(x,y,n,m):\n",
    "    if n==0 or m==0:\n",
    "        return 0\n",
    "    if x[n-1]==y[m-1]:\n",
    "        return 1+LCSLength(x,y,n-1,m-1)\n",
    "    else:\n",
    "        return max(LCSLength(x,y,n-1,m),LCSLength(x,y,n,m-1))\n",
    "\n",
    "def minimumNumberOfInsertionsAndDeletions(x,y):\n",
    "    n,m=len(x),len(y)\n",
    "    c=LCSLength(x,y,n,m)\n",
    "    ad=(m-c)\n",
    "    sb=(n-c)\n",
    "    # c= m+n-c or c+=(n-c)+(m-c)\n",
    "    return [ad,sb]\n",
    "A=\"heap\"\n",
    "B=\"pea\"\n",
    "add,sub=minimumNumberOfInsertionsAndDeletions(A,B)\n",
    "print(\"Insertions:\",add , \", Deletions:\",sub)"
   ]
  },
  {
   "cell_type": "markdown",
   "id": "9783b792",
   "metadata": {},
   "source": [
    "# Longest Pallindromic Subsequence - Length (Recursive)"
   ]
  },
  {
   "cell_type": "code",
   "execution_count": 8,
   "id": "9674620c",
   "metadata": {},
   "outputs": [
    {
     "data": {
      "text/plain": [
       "7"
      ]
     },
     "execution_count": 8,
     "metadata": {},
     "output_type": "execute_result"
    }
   ],
   "source": [
    "def PallindromicSubsequence(x,n,m):\n",
    "    if n==m:\n",
    "        return 1\n",
    "    if n>m or n==0 or m==len(x)+1 :\n",
    "        return 0\n",
    "    if x[n-1]==x[m-1]:\n",
    "        return 2+PallindromicSubsequence(x,n+1,m-1)\n",
    "    else:\n",
    "        return max(PallindromicSubsequence(x,n+1,m),PallindromicSubsequence(x,n,m+1))\n",
    "x=\"abccbhiunhjba\"\n",
    "PallindromicSubsequence(x,1,len(x))"
   ]
  },
  {
   "cell_type": "markdown",
   "id": "02ec1fbe",
   "metadata": {},
   "source": [
    "# Longest Pallindromic Subsequence Length using already coded Longest Common Subsequence length ( Tabulation - Top Down Approach )"
   ]
  },
  {
   "cell_type": "code",
   "execution_count": 9,
   "id": "58910ce7",
   "metadata": {},
   "outputs": [
    {
     "data": {
      "text/plain": [
       "7"
      ]
     },
     "execution_count": 9,
     "metadata": {},
     "output_type": "execute_result"
    }
   ],
   "source": [
    "def LCSLength(x,y,n,m):\n",
    "    dp=[[0 for _ in range (m+1)]for _ in range(n+1)]\n",
    "    for i in range(1,n+1):\n",
    "        for j in range(1,m+1):\n",
    "            if x[i-1]==y[j-1]:\n",
    "                dp[i][j]=1+dp[i-1][j-1]\n",
    "            else:\n",
    "                dp[i][j]=max(dp[i-1][j],dp[i][j-1])\n",
    "    return dp[n][m]\n",
    "    \n",
    "def PallindromicSubsequence(x):\n",
    "    y=x[::-1]\n",
    "    n=len(x)\n",
    "    return LCSLength(x,y,n,n)\n",
    "x=\"abccbhiunhjba\"\n",
    "PallindromicSubsequence(x)"
   ]
  },
  {
   "cell_type": "markdown",
   "id": "d19486c9",
   "metadata": {},
   "source": [
    "#  Minimum number of deletion in a string to make it a palindrome"
   ]
  },
  {
   "cell_type": "code",
   "execution_count": 10,
   "id": "5ffe63c0",
   "metadata": {},
   "outputs": [
    {
     "data": {
      "text/plain": [
       "1"
      ]
     },
     "execution_count": 10,
     "metadata": {},
     "output_type": "execute_result"
    }
   ],
   "source": [
    "def LCSLength(x,y,n,m):\n",
    "    dp=[[0 for _ in range (m+1)]for _ in range(n+1)]\n",
    "    for i in range(1,n+1):\n",
    "        for j in range(1,m+1):\n",
    "            if x[i-1]==y[j-1]:\n",
    "                dp[i][j]=1+dp[i-1][j-1]\n",
    "            else:\n",
    "                dp[i][j]=max(dp[i-1][j],dp[i][j-1])\n",
    "    return dp[n][m]\n",
    "    \n",
    "def MinimumNoOfOperationsToPallindrome(x):\n",
    "    y=x[::-1]\n",
    "    n=len(x)\n",
    "    return n-LCSLength(x,y,n,n)\n",
    "x=\"agbcba\"\n",
    "MinimumNoOfOperationsToPallindrome(x)"
   ]
  },
  {
   "cell_type": "markdown",
   "id": "6a0ef35a",
   "metadata": {},
   "source": [
    "#  Print Shortest Common Supersequence using already coded functions "
   ]
  },
  {
   "cell_type": "code",
   "execution_count": 11,
   "id": "59a1cfee",
   "metadata": {},
   "outputs": [
    {
     "data": {
      "text/plain": [
       "'acbcdaf'"
      ]
     },
     "execution_count": 11,
     "metadata": {},
     "output_type": "execute_result"
    }
   ],
   "source": [
    "def LCSTable(x,y,n,m):\n",
    "    dp=[[0 for _ in range (m+1)]for _ in range(n+1)]\n",
    "    for i in range(1,n+1):\n",
    "        for j in range(1,m+1):\n",
    "            if x[i-1]==y[j-1]:\n",
    "                dp[i][j]=1+dp[i-1][j-1]\n",
    "            else:\n",
    "                dp[i][j]=max(dp[i-1][j],dp[i][j-1])\n",
    "    return dp\n",
    "def SCSPrint(x,y):\n",
    "    n=len(x)\n",
    "    m=len(y)\n",
    "    dp=LCSTable(x,y,n,m)\n",
    "    i=n\n",
    "    j=m\n",
    "    s=\"\"\n",
    "    while(i>0 and j>0):\n",
    "        if x[i-1]==y[j-1]:\n",
    "            s+=x[i-1]\n",
    "            i-=1\n",
    "            j-=1\n",
    "        else:\n",
    "            if dp[i-1][j]>dp[i][j-1]:\n",
    "                s+=x[i-1]\n",
    "                i-=1\n",
    "            else:\n",
    "                s+=y[j-1]\n",
    "                j-=1\n",
    "    return s[::-1]\n",
    "    \n",
    "x=\"acbcf\"\n",
    "y=\"abcdaf\"\n",
    "\n",
    "SCSPrint(x,y)"
   ]
  },
  {
   "cell_type": "markdown",
   "id": "f883d222",
   "metadata": {},
   "source": [
    "#  Longest repeating subsequence - length (little change in LCS)\n",
    "\n",
    "i.e., i ! = j"
   ]
  },
  {
   "cell_type": "code",
   "execution_count": 12,
   "id": "fc189f59",
   "metadata": {},
   "outputs": [
    {
     "data": {
      "text/plain": [
       "3"
      ]
     },
     "execution_count": 12,
     "metadata": {},
     "output_type": "execute_result"
    }
   ],
   "source": [
    "def LRSLength(x):\n",
    "    m=n=len(x)\n",
    "    y=x\n",
    "    dp=[[0 for _ in range (m+1)]for _ in range(n+1)]\n",
    "    for i in range(1,n+1):\n",
    "        for j in range(1,m+1):\n",
    "            if x[i-1]==y[j-1] and i !=j:\n",
    "                dp[i][j]=1+dp[i-1][j-1]\n",
    "            else:\n",
    "                dp[i][j]=max(dp[i-1][j],dp[i][j-1])\n",
    "    return dp[n][m]\n",
    "    \n",
    "x=\"AABEBDCD\"\n",
    "LRSLength(x)"
   ]
  },
  {
   "cell_type": "markdown",
   "id": "f42b4f1f",
   "metadata": {},
   "source": [
    "#  Longest repeating subsequence Print \n",
    "\n",
    "(little changes i.e., i ! = j )"
   ]
  },
  {
   "cell_type": "code",
   "execution_count": 13,
   "id": "3f2d89d1",
   "metadata": {},
   "outputs": [
    {
     "data": {
      "text/plain": [
       "'ABD'"
      ]
     },
     "execution_count": 13,
     "metadata": {},
     "output_type": "execute_result"
    }
   ],
   "source": [
    "def LRS(x):\n",
    "    m=n=len(x)\n",
    "    y=x\n",
    "    dp=[[0 for _ in range (m+1)]for _ in range(n+1)]\n",
    "    for i in range(1,n+1):\n",
    "        for j in range(1,m+1):\n",
    "            if x[i-1]==y[j-1] and i !=j:\n",
    "                dp[i][j]=1+dp[i-1][j-1]\n",
    "            else:\n",
    "                dp[i][j]=max(dp[i-1][j],dp[i][j-1])\n",
    "    return dp\n",
    "def LRSPrint(x):\n",
    "    dp=LRS(x)\n",
    "    y=x\n",
    "    i=j=len(x)\n",
    "    s=\"\"\n",
    "    while(i>0 and j>0):\n",
    "        if x[i-1]==y[j-1] and i!=j:\n",
    "            s+=x[i-1]\n",
    "            i-=1\n",
    "            j-=1\n",
    "        else:\n",
    "            if dp[i-1][j]>dp[i][j-1]:\n",
    "                i-=1\n",
    "            else:\n",
    "                j-=1\n",
    "    return s[::-1]\n",
    "x=\"AABEBDCD\"\n",
    "LRSPrint(x)"
   ]
  },
  {
   "cell_type": "markdown",
   "id": "d4c42950",
   "metadata": {},
   "source": [
    "# Sequence Pattern Matching\n",
    "\n",
    "whether x is subsequence of y"
   ]
  },
  {
   "cell_type": "code",
   "execution_count": 14,
   "id": "2c5d27cd",
   "metadata": {},
   "outputs": [
    {
     "data": {
      "text/plain": [
       "True"
      ]
     },
     "execution_count": 14,
     "metadata": {},
     "output_type": "execute_result"
    }
   ],
   "source": [
    "def LCSLength(x,y,n,m):\n",
    "    dp=[[0 for _ in range (m+1)]for _ in range(n+1)]\n",
    "    for i in range(1,n+1):\n",
    "        for j in range(1,m+1):\n",
    "            if x[i-1]==y[j-1]:\n",
    "                dp[i][j]=1+dp[i-1][j-1]\n",
    "            else:\n",
    "                dp[i][j]=max(dp[i-1][j],dp[i][j-1])\n",
    "    return dp[n][m]\n",
    "    \n",
    "def SequencePatternMatching(x,y):\n",
    "    n,m=len(x),len(y)\n",
    "    c=LCSLength(x,y,n,m)\n",
    "    if c!=n:\n",
    "        return False\n",
    "    return True\n",
    "x=\"AXY\"\n",
    "y=\"ADXCPY\"\n",
    "SequencePatternMatching(x,y)"
   ]
  },
  {
   "cell_type": "markdown",
   "id": "a67e12ec",
   "metadata": {},
   "source": [
    "#  Minimum number of insertion in a string to make it a palindrome"
   ]
  },
  {
   "cell_type": "code",
   "execution_count": 15,
   "id": "aa21d357",
   "metadata": {},
   "outputs": [
    {
     "data": {
      "text/plain": [
       "2"
      ]
     },
     "execution_count": 15,
     "metadata": {},
     "output_type": "execute_result"
    }
   ],
   "source": [
    "def LCSLength(x,y,n,m):\n",
    "    dp=[[0 for _ in range (m+1)]for _ in range(n+1)]\n",
    "    for i in range(1,n+1):\n",
    "        for j in range(1,m+1):\n",
    "            if x[i-1]==y[j-1]:\n",
    "                dp[i][j]=1+dp[i-1][j-1]\n",
    "            else:\n",
    "                dp[i][j]=max(dp[i-1][j],dp[i][j-1])\n",
    "    return dp[n][m]\n",
    "    \n",
    "def MinimumNoOfOperationsToPallindrome(x):\n",
    "    y=x[::-1]\n",
    "    n=len(x)\n",
    "    return n-LCSLength(x,y,n,n)\n",
    "x=\"aebebda\"\n",
    "MinimumNoOfOperationsToPallindrome(x)"
   ]
  }
 ],
 "metadata": {
  "kernelspec": {
   "display_name": "Python 3 (ipykernel)",
   "language": "python",
   "name": "python3"
  },
  "language_info": {
   "codemirror_mode": {
    "name": "ipython",
    "version": 3
   },
   "file_extension": ".py",
   "mimetype": "text/x-python",
   "name": "python",
   "nbconvert_exporter": "python",
   "pygments_lexer": "ipython3",
   "version": "3.9.7"
  }
 },
 "nbformat": 4,
 "nbformat_minor": 5
}
