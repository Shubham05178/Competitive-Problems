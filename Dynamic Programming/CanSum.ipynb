{
 "cells": [
  {
   "cell_type": "markdown",
   "metadata": {},
   "source": [
    "Calculating whether target sum is possible by numbers\n",
    "\n",
    "# Recursion Method \n",
    "\n",
    "Time Complexity- O(n^m)\n",
    "\n",
    "Space Complexity-O(m)\n",
    "\n",
    "where n is array length and m is target sum"
   ]
  },
  {
   "cell_type": "code",
   "execution_count": 1,
   "metadata": {},
   "outputs": [],
   "source": [
    "def CanSumRec(targetSum,numbers):\n",
    "    if targetSum==0:\n",
    "        return True\n",
    "    if targetSum<0:\n",
    "        return False\n",
    "    for i in numbers:\n",
    "        diff=targetSum-i\n",
    "        if(CanSumRec(diff,numbers)):\n",
    "            return True\n",
    "    return False        "
   ]
  },
  {
   "cell_type": "code",
   "execution_count": 2,
   "metadata": {},
   "outputs": [
    {
     "data": {
      "text/plain": [
       "False"
      ]
     },
     "execution_count": 2,
     "metadata": {},
     "output_type": "execute_result"
    }
   ],
   "source": [
    "CanSumRec(200,[7,14])"
   ]
  },
  {
   "cell_type": "markdown",
   "metadata": {},
   "source": [
    "# Dynamic Programming\n",
    "Time Complexity- O(m*n)\n",
    "\n",
    "Space Complexity-O(m)\n",
    "\n",
    "where m is target sum and n is length of array "
   ]
  },
  {
   "cell_type": "code",
   "execution_count": 3,
   "metadata": {},
   "outputs": [],
   "source": [
    "def CanSumDP(targetSum,numbers,memo={}):\n",
    "    if targetSum in memo:\n",
    "        return memo[targetSum]\n",
    "    if targetSum==0:\n",
    "        return True\n",
    "    if targetSum<0:\n",
    "        return False\n",
    "    for i in numbers:\n",
    "        diff=targetSum-i\n",
    "        if(CanSumDP(diff,numbers,memo)):\n",
    "            memo[targetSum]=True\n",
    "            return True\n",
    "    memo[targetSum]=False\n",
    "    return False"
   ]
  },
  {
   "cell_type": "code",
   "execution_count": 4,
   "metadata": {},
   "outputs": [
    {
     "data": {
      "text/plain": [
       "False"
      ]
     },
     "execution_count": 4,
     "metadata": {},
     "output_type": "execute_result"
    }
   ],
   "source": [
    "CanSumDP(300,[7,14])"
   ]
  }
 ],
 "metadata": {
  "kernelspec": {
   "display_name": "Python 3",
   "language": "python",
   "name": "python3"
  },
  "language_info": {
   "codemirror_mode": {
    "name": "ipython",
    "version": 3
   },
   "file_extension": ".py",
   "mimetype": "text/x-python",
   "name": "python",
   "nbconvert_exporter": "python",
   "pygments_lexer": "ipython3",
   "version": "3.7.6rc1"
  }
 },
 "nbformat": 4,
 "nbformat_minor": 4
}
