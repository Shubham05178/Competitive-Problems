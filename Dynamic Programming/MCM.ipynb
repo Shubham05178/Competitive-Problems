{
 "cells": [
  {
   "cell_type": "markdown",
   "id": "62f155f9",
   "metadata": {},
   "source": [
    "# 1. Find i and j\n",
    "i.e., i=1 and j=n-1\n",
    "# 2. Base Condition\n",
    "i.e.. if i>=j return 0\n",
    "# 3. K LOOP\n",
    "we can do loop for k like\n",
    "\n",
    "i=k to j-1 then break it into (i,k) and (k+1,j)\n",
    "\n",
    "or\n",
    "\n",
    "i=k+1 to j then break it into (i,k-1) and (k,j)\n",
    "\n",
    "# 4. From temp ans find the ans \n",
    "i.e., minimum of all temp ans"
   ]
  },
  {
   "cell_type": "markdown",
   "id": "b4af154f",
   "metadata": {},
   "source": [
    "# Recursive Approach"
   ]
  },
  {
   "cell_type": "code",
   "execution_count": 1,
   "id": "286b9d67",
   "metadata": {},
   "outputs": [
    {
     "data": {
      "text/plain": [
       "212"
      ]
     },
     "execution_count": 1,
     "metadata": {},
     "output_type": "execute_result"
    }
   ],
   "source": [
    "def MCM(arr,i , j):\n",
    "    if i >=j:\n",
    "        return 0\n",
    "    m=float(\"inf\")\n",
    "    for k in range(i,j):\n",
    "        temp=MCM(arr,i,k)+MCM(arr,k+1,j)+(arr[i-1]*arr[k]*arr[j])\n",
    "        m=min(temp,m)\n",
    "    return m\n",
    "\n",
    "arr=[4, 10, 3, 12, 20, 7,10,20,34,89,12,123,1,121,222,121,11,234,212,111,2112,112,112,112332,121,21,21,21,21,21,21,32,32,32,12,1,2,321,21,2,2]\n",
    "arr=[4, 10, 3, 12, 2]\n",
    "MCM(arr,1,len(arr)-1)"
   ]
  },
  {
   "cell_type": "markdown",
   "id": "98df3e11",
   "metadata": {},
   "source": [
    "# Memoization Approach (Bottom up approach)"
   ]
  },
  {
   "cell_type": "code",
   "execution_count": 2,
   "id": "daaa484e",
   "metadata": {},
   "outputs": [
    {
     "data": {
      "text/plain": [
       "26809951"
      ]
     },
     "execution_count": 2,
     "metadata": {},
     "output_type": "execute_result"
    }
   ],
   "source": [
    "def MCM(arr,i , j):\n",
    "    if i >=j:\n",
    "        return 0\n",
    "    if dp[i][j]!=-1:\n",
    "        return dp[i][j]\n",
    "    m=float(\"inf\")\n",
    "    for k in range(i,j):\n",
    "        temp=MCM(arr,i,k)+MCM(arr,k+1,j)+(arr[i-1]*arr[k]*arr[j])\n",
    "        m=min(temp,m)\n",
    "    dp[i][j]=m\n",
    "    return m \n",
    "\n",
    "arr=[4, 10, 3, 12, 20, 7,10,20,34,89,12,123,1,121,222,121,11,234,212,111,2112,112,112,112332,121,21,21,21,21,21,21,32,32,32,12,1,2,321,21,2,2]\n",
    "dp=[[-1 for _ in range(len(arr))] for _ in range(len(arr))]\n",
    "MCM(arr,1,len(arr)-1)\n"
   ]
  },
  {
   "cell_type": "markdown",
   "id": "9ef50d61",
   "metadata": {},
   "source": [
    "# Palindrome Partitioning (Recursive Approach)"
   ]
  },
  {
   "cell_type": "code",
   "execution_count": 3,
   "id": "31ca5011",
   "metadata": {},
   "outputs": [
    {
     "data": {
      "text/plain": [
       "9"
      ]
     },
     "execution_count": 3,
     "metadata": {},
     "output_type": "execute_result"
    }
   ],
   "source": [
    "def isPallindrome(s,i,j):\n",
    "    ss=s[i:j+1]\n",
    "    ssreverse=ss[::-1]\n",
    "    return ss==ssreverse\n",
    "def PallindromePartitioning(s,i,j):\n",
    "    if i>=j:\n",
    "        return 0\n",
    "    if isPallindrome(s,i,j):\n",
    "        return 0\n",
    "    mn=float(\"inf\")\n",
    "    for k in range(i,j):\n",
    "        t=1+PallindromePartitioning(s,i,k)+PallindromePartitioning(s,k+1,j)\n",
    "        mn =min(t,mn)\n",
    "    return mn\n",
    "x=\"aabqwebbqabqbabq\"\n",
    "n=len(x)\n",
    "PallindromePartitioning(x,0,n-1)\n",
    "        "
   ]
  },
  {
   "cell_type": "markdown",
   "id": "ceeb7453",
   "metadata": {},
   "source": [
    "# Palindrome Partitioning (Memoization - Bottom up Approach)"
   ]
  },
  {
   "cell_type": "code",
   "execution_count": 4,
   "id": "dabcf6ec",
   "metadata": {},
   "outputs": [
    {
     "data": {
      "text/plain": [
       "47"
      ]
     },
     "execution_count": 4,
     "metadata": {},
     "output_type": "execute_result"
    }
   ],
   "source": [
    "def isPallindrome(s,i,j):\n",
    "    ss=s[i:j+1]\n",
    "    ssreverse=ss[::-1]\n",
    "    return ss==ssreverse\n",
    "def PallindromePartitioning(s,i,j):\n",
    "    if i>=j:\n",
    "        return 0\n",
    "    if isPallindrome(s,i,j):\n",
    "        return 0\n",
    "    if dp[i][j]!=-1:\n",
    "        return dp[i][j]\n",
    "    mn=float(\"inf\")\n",
    "    for k in range(i,j):       \n",
    "        t=1+PallindromePartitioning(s,i,k)+PallindromePartitioning(s,k+1,j)\n",
    "        mn =min(t,mn)\n",
    "    dp[i][j]=mn\n",
    "    return mn\n",
    "x=\"aabqwebbqabqbabbbbgthgfhjuhygtrtgyhjukjhygtfretyhjukuhgtfhngggghhhhhhhgffghgfghgfdghgfghq\"\n",
    "n=len(x)\n",
    "dp=[[-1 for _ in range(n)] for _ in range(n)]\n",
    "PallindromePartitioning(x,0,n-1)"
   ]
  },
  {
   "cell_type": "markdown",
   "id": "bae86fa7",
   "metadata": {},
   "source": [
    "# Palindrome Partitioning (Memoization - Bottom up Approach) More improved "
   ]
  },
  {
   "cell_type": "code",
   "execution_count": 5,
   "id": "b6af3a71",
   "metadata": {},
   "outputs": [
    {
     "data": {
      "text/plain": [
       "47"
      ]
     },
     "execution_count": 5,
     "metadata": {},
     "output_type": "execute_result"
    }
   ],
   "source": [
    "def isPallindrome(s,i,j):\n",
    "    ss=s[i:j+1]\n",
    "    ssreverse=ss[::-1]\n",
    "    return ss==ssreverse\n",
    "def PallindromePartitioning(s,i,j):\n",
    "    if i>=j:\n",
    "        return 0\n",
    "    if isPallindrome(s,i,j):\n",
    "        return 0\n",
    "    if dp[i][j]!=-1:\n",
    "        return dp[i][j]\n",
    "    mn=float(\"inf\")\n",
    "    for k in range(i,j):\n",
    "        x=dp[i][k]=(dp[i][k] if dp[i][k]!= -1 else PallindromePartitioning(s,i,k))\n",
    "        y=dp[k+1][j]= (dp[k+1][j] if dp[k+1][j]!=-1 else PallindromePartitioning(s,k+1,j))\n",
    "       \n",
    "        t=1+x+y\n",
    "        mn =min(t,mn)\n",
    "    dp[i][j]=mn\n",
    "    return mn\n",
    "x=\"aabqwebbqabqbabbbbgthgfhjuhygtrtgyhjukjhygtfretyhjukuhgtfhngggghhhhhhhgffghgfghgfdghgfghq\"\n",
    "n=len(x)\n",
    "dp=[[-1 for _ in range(n)] for _ in range(n)]\n",
    "PallindromePartitioning(x,0,n-1)"
   ]
  },
  {
   "cell_type": "markdown",
   "id": "bef743bd",
   "metadata": {},
   "source": [
    "# Evaluate Expression to True Boolean Parenthesization (Recursive Approach)"
   ]
  },
  {
   "cell_type": "code",
   "execution_count": 6,
   "id": "aca8f231",
   "metadata": {},
   "outputs": [
    {
     "data": {
      "text/plain": [
       "4"
      ]
     },
     "execution_count": 6,
     "metadata": {},
     "output_type": "execute_result"
    }
   ],
   "source": [
    "def solve(s,i,j,isTrue):\n",
    "    if i>j:\n",
    "        return 0\n",
    "    if i==j:\n",
    "        if isTrue==1:\n",
    "            if s[i]==\"T\":\n",
    "                return 1\n",
    "            else:\n",
    "                return 0\n",
    "        else:\n",
    "            if s[i]==\"F\":\n",
    "                return 1\n",
    "            else:\n",
    "                return 0\n",
    "    ans =0\n",
    "    for k in range(i+1,j,2):\n",
    "        lT=solve(s,i,k-1,1)\n",
    "        lF=solve(s,i,k-1,0)\n",
    "        rT=solve(s,k+1,j,1)\n",
    "        rF=solve(s,k+1,j,0)\n",
    "        if s[k]==\"&\":\n",
    "            if isTrue==1:\n",
    "                ans+=(lT*rT)\n",
    "            else:\n",
    "                ans+=(lT*rF)+(lF*rT)+(lF*rF)\n",
    "        elif s[k]==\"|\":\n",
    "            if isTrue==1:\n",
    "                ans+=(lT*rT)+(lT*rF)+(lF*rT)\n",
    "            else:\n",
    "                ans+=(lF*rF)\n",
    "        elif s[k]==\"^\":\n",
    "            if isTrue==1:\n",
    "                ans+=(lT*rF)+(lF*rT)\n",
    "            else:\n",
    "                ans+=(lF*rF)+(lT*rT)\n",
    "    return ans \n",
    "        \n",
    "x=\"T|T&F^T\"\n",
    "solve(x,0,len(x)-1,1)"
   ]
  },
  {
   "cell_type": "markdown",
   "id": "4855d577",
   "metadata": {},
   "source": [
    "# Evaluate Expression To True Boolean Parenthesization Memoized"
   ]
  },
  {
   "cell_type": "code",
   "execution_count": 7,
   "id": "c89b3fd6",
   "metadata": {},
   "outputs": [
    {
     "data": {
      "text/plain": [
       "4"
      ]
     },
     "execution_count": 7,
     "metadata": {},
     "output_type": "execute_result"
    }
   ],
   "source": [
    "def solve(s,i,j,isTrue,dp):\n",
    "    if i>j:\n",
    "        return 0\n",
    "\n",
    "    if i==j:\n",
    "        if isTrue==1:\n",
    "            return 1 if s[i]=='T' else 0\n",
    "        else:\n",
    "            return 1 if s[i]=='F' else 0\n",
    "        if dp[i][j][isTrue]!=-1:\n",
    "            return dp[i][j][isTrue]\n",
    "\n",
    "    ans=0\n",
    "    \n",
    "    for k in range(i+1,j,2):\n",
    "        if dp[i][k-1][1]!=-1:\n",
    "            lT=dp[i][k-1][1]\n",
    "        else :\n",
    "            lT=solve(s,i,k-1,1,dp)\n",
    "        if dp[i][k - 1][0] != -1:\n",
    "            lF=dp[i][k - 1][0]\n",
    "        else :\n",
    "            lF=solve(s,i,k - 1,0,dp)\n",
    "\n",
    "        if dp[k+1][j][1]!=-1 :\n",
    "            rT=dp[k+1][j][1]\n",
    "        else:\n",
    "            rT=solve(s,k+1,j,1,dp)\n",
    "\n",
    "        if dp[k+1][j][0]!=-1:\n",
    "            rF=dp[k + 1][j][0]\n",
    "        else:\n",
    "            rF=solve(s,k+1,j,0,dp)\n",
    "\n",
    "        if s[k]=='&':\n",
    "            if isTrue==1:\n",
    "                ans+=(lT*rT)\n",
    "            else:\n",
    "                ans+=(lT*rF)+(lF*rT)+(lF*rF)\n",
    "\n",
    "        elif s[k]=='|':\n",
    "            if isTrue==1:\n",
    "                ans+=(lT*rT)+(lT*rF)+(lF*rT)\n",
    "            else:\n",
    "                ans+=(lF*rF)\n",
    "\n",
    "        elif s[k]=='^':\n",
    "            if isTrue== 1:\n",
    "                ans+=(lT*rF)+(lF*rT)\n",
    "            else:\n",
    "                ans+=(lT*rT)+(lF*rF)\n",
    "    dp[i][j][isTrue] = ans\n",
    "    return ans\n",
    "\n",
    "def countWays(n,x) :\n",
    "\n",
    "    dp = [[[-1 for _ in range(2)] for _ in range(n+1)] for _ in range(n+1)]\n",
    "    return solve(x,0,n-1,1,dp)\n",
    "\n",
    "\n",
    "x=\"T|T&F^T\"\n",
    "# There are 4 ways ((T|T)&(F^T)), (T|(T&(F^T))), (((T|T)&F)^T) and (T|((T&F)^T))\n",
    "n=len(x)\n",
    "countWays(n,x)"
   ]
  }
 ],
 "metadata": {
  "kernelspec": {
   "display_name": "Python 3 (ipykernel)",
   "language": "python",
   "name": "python3"
  },
  "language_info": {
   "codemirror_mode": {
    "name": "ipython",
    "version": 3
   },
   "file_extension": ".py",
   "mimetype": "text/x-python",
   "name": "python",
   "nbconvert_exporter": "python",
   "pygments_lexer": "ipython3",
   "version": "3.9.7"
  }
 },
 "nbformat": 4,
 "nbformat_minor": 5
}
