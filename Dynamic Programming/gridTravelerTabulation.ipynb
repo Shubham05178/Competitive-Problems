{
 "cells": [
  {
   "cell_type": "markdown",
   "metadata": {},
   "source": [
    "Time Complexity -O(mn)\n",
    "\n",
    "Space Complexity -O(mn)"
   ]
  },
  {
   "cell_type": "code",
   "execution_count": 1,
   "metadata": {},
   "outputs": [],
   "source": [
    "def gridTravelerTabulation(m,n):\n",
    "    table=[[0 for _ in range(n+1)] for _ in range(m+1)]\n",
    "    table[1][1]=1\n",
    "    for i in range(m+1):\n",
    "        for j in range(n+1):\n",
    "            if i+1<m+1:\n",
    "                table[i+1][j]+=table[i][j]\n",
    "            if j+1<n+1:\n",
    "                table[i][j+1]+=table[i][j]\n",
    "    return table[m][n]\n",
    "            \n",
    "    "
   ]
  },
  {
   "cell_type": "code",
   "execution_count": 2,
   "metadata": {},
   "outputs": [
    {
     "data": {
      "text/plain": [
       "3"
      ]
     },
     "execution_count": 2,
     "metadata": {},
     "output_type": "execute_result"
    }
   ],
   "source": [
    "gridTravelerTabulation(3,2)"
   ]
  }
 ],
 "metadata": {
  "kernelspec": {
   "display_name": "Python 3",
   "language": "python",
   "name": "python3"
  },
  "language_info": {
   "codemirror_mode": {
    "name": "ipython",
    "version": 3
   },
   "file_extension": ".py",
   "mimetype": "text/x-python",
   "name": "python",
   "nbconvert_exporter": "python",
   "pygments_lexer": "ipython3",
   "version": "3.9.0"
  }
 },
 "nbformat": 4,
 "nbformat_minor": 4
}
