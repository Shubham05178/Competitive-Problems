{
 "cells": [
  {
   "cell_type": "markdown",
   "metadata": {},
   "source": [
    "# Brute Force Method\n",
    "\n",
    "Time Complexity - O(n^m *m)\n",
    "\n",
    "Space Complexity - O(m*m)\n",
    "\n",
    "where n is length of wordbank and m is target length"
   ]
  },
  {
   "cell_type": "code",
   "execution_count": 1,
   "metadata": {},
   "outputs": [],
   "source": [
    "def countConstructRec(target,wordBank):\n",
    "    if target=='':\n",
    "        return 1\n",
    "    totalWays=0\n",
    "    for i in wordBank:\n",
    "        if i in target and target.index(i)==0:\n",
    "            suffix=target[len(i):]\n",
    "            numberOfWaysForRest=countConstructRec(suffix,wordBank)\n",
    "            totalWays+=numberOfWaysForRest\n",
    "    \n",
    "    return totalWays"
   ]
  },
  {
   "cell_type": "code",
   "execution_count": 2,
   "metadata": {},
   "outputs": [
    {
     "data": {
      "text/plain": [
       "2"
      ]
     },
     "execution_count": 2,
     "metadata": {},
     "output_type": "execute_result"
    }
   ],
   "source": [
    "countConstructRec(\"purple\",[\"purp\",\"p\",\"ur\",\"le\",\"purpl\"])"
   ]
  },
  {
   "cell_type": "code",
   "execution_count": 3,
   "metadata": {},
   "outputs": [],
   "source": [
    "#countConstructRec(\"eeeeeeeeeeeeeeeeeeeeeeeeeeeeeeeeeeeeeeeeeeeeeeeeeeeeeeeeeeeeeeeeeeeeeeeeef\",[\"e\",\"ee\",\"eee\",\"eeee\",\"eeeee\",\"eeeeee\"])\n",
    "#Taking Time"
   ]
  },
  {
   "cell_type": "markdown",
   "metadata": {},
   "source": [
    "# Dynamic Programming (Memoization)\n",
    "\n",
    "Time Complexity - O(n*m *m)\n",
    "\n",
    "Space Complexity - O(m*m)\n",
    "\n",
    "where n is length of wordbank and m is target length"
   ]
  },
  {
   "cell_type": "code",
   "execution_count": 4,
   "metadata": {},
   "outputs": [],
   "source": [
    "def countConstructDP(target,wordBank,memo={}):\n",
    "    if target in memo:\n",
    "        return memo[target]\n",
    "    if target=='':\n",
    "        return 1\n",
    "    totalWays=0\n",
    "    for i in wordBank:\n",
    "        if i in target and target.index(i)==0:\n",
    "            suffix=target[len(i):]\n",
    "            numberOfWaysForRest=countConstructDP(suffix,wordBank,memo)\n",
    "            totalWays+=numberOfWaysForRest\n",
    "    memo[target]=totalWays\n",
    "    return totalWays"
   ]
  },
  {
   "cell_type": "code",
   "execution_count": 5,
   "metadata": {},
   "outputs": [
    {
     "data": {
      "text/plain": [
       "0"
      ]
     },
     "execution_count": 5,
     "metadata": {},
     "output_type": "execute_result"
    }
   ],
   "source": [
    "countConstructDP(\"eeeeeeeeeeeeeeeeeeeeeeeeeeeeeeeeeeeeeeeeeeeeeeeeeeeeeeeeeeeeeeeeeeeeeeeeef\",[\"e\",\"ee\",\"eee\",\"eeee\",\"eeeee\",\"eeeeee\"])\n"
   ]
  },
  {
   "cell_type": "code",
   "execution_count": null,
   "metadata": {},
   "outputs": [],
   "source": []
  }
 ],
 "metadata": {
  "kernelspec": {
   "display_name": "Python 3",
   "language": "python",
   "name": "python3"
  },
  "language_info": {
   "codemirror_mode": {
    "name": "ipython",
    "version": 3
   },
   "file_extension": ".py",
   "mimetype": "text/x-python",
   "name": "python",
   "nbconvert_exporter": "python",
   "pygments_lexer": "ipython3",
   "version": "3.9.0"
  }
 },
 "nbformat": 4,
 "nbformat_minor": 4
}
