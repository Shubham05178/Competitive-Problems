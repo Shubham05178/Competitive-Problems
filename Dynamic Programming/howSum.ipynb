{
 "cells": [
  {
   "cell_type": "markdown",
   "metadata": {},
   "source": [
    "How can we calculate target sum from Numbers array\n",
    "# Brute Force Method (Recursive)\n",
    "Time Complexity- O(n^m * m )\n",
    "\n",
    "Space Complexity -O(m)\n",
    "\n",
    "where n is numbers length and m is target sum"
   ]
  },
  {
   "cell_type": "code",
   "execution_count": 1,
   "metadata": {},
   "outputs": [],
   "source": [
    "def howSumRec(targetSum,numbers):\n",
    "    if targetSum==0:\n",
    "        return []\n",
    "    if targetSum<0:\n",
    "        return None\n",
    "    for i in numbers:\n",
    "        diff=targetSum-i\n",
    "        s=howSumRec(diff,numbers)\n",
    "        if s!=None:\n",
    "            return s+[i]\n",
    "    \n",
    "    return None"
   ]
  },
  {
   "cell_type": "code",
   "execution_count": 2,
   "metadata": {},
   "outputs": [
    {
     "data": {
      "text/plain": [
       "[2, 2, 2, 2]"
      ]
     },
     "execution_count": 2,
     "metadata": {},
     "output_type": "execute_result"
    }
   ],
   "source": [
    "howSumRec(8,[2,3,5])"
   ]
  },
  {
   "cell_type": "code",
   "execution_count": 3,
   "metadata": {},
   "outputs": [],
   "source": [
    "#howSumRec(300,[7,14])\n",
    "#taking time"
   ]
  },
  {
   "cell_type": "markdown",
   "metadata": {},
   "source": [
    "# Dynamic Programming (Memoized)\n",
    "Time Complexity- O(n*m * m)\n",
    "\n",
    "Space Complexity -O(m*m)\n",
    "\n",
    "where n is numbers length and m is target sum"
   ]
  },
  {
   "cell_type": "code",
   "execution_count": 4,
   "metadata": {},
   "outputs": [],
   "source": [
    "def howSumDP(targetSum,numbers,memo={}):\n",
    "    if targetSum in memo:\n",
    "        return memo[targetSum]\n",
    "    if targetSum==0:\n",
    "        return []\n",
    "    if targetSum<0:\n",
    "        return None\n",
    "    for i in numbers:\n",
    "        diff=targetSum-i\n",
    "        s=howSumDP(diff,numbers,memo)\n",
    "        if s!=None:\n",
    "            memo[targetSum]= s+[i]\n",
    "            return memo[targetSum]\n",
    "    memo[targetSum]=None\n",
    "    return memo[targetSum] "
   ]
  },
  {
   "cell_type": "code",
   "execution_count": 5,
   "metadata": {},
   "outputs": [],
   "source": [
    "howSumDP(300,[7,14])"
   ]
  }
 ],
 "metadata": {
  "kernelspec": {
   "display_name": "Python 3",
   "language": "python",
   "name": "python3"
  },
  "language_info": {
   "codemirror_mode": {
    "name": "ipython",
    "version": 3
   },
   "file_extension": ".py",
   "mimetype": "text/x-python",
   "name": "python",
   "nbconvert_exporter": "python",
   "pygments_lexer": "ipython3",
   "version": "3.7.6rc1"
  }
 },
 "nbformat": 4,
 "nbformat_minor": 4
}
