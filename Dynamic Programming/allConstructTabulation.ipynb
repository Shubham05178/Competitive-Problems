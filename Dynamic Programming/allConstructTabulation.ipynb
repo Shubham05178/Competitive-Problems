{
 "cells": [
  {
   "cell_type": "markdown",
   "metadata": {},
   "source": [
    "Time Complexity - O(m * n * m)\n",
    "\n",
    "Space Complexity -O(m)"
   ]
  },
  {
   "cell_type": "code",
   "execution_count": 1,
   "metadata": {},
   "outputs": [],
   "source": [
    "def allConstructTabulation(targetString,wordBank):\n",
    "    table=[[] for _ in range(len(targetString)+1)]\n",
    "    table[0]=[[]]\n",
    "    for i in range (len(targetString)):\n",
    "        if table[i]!= []:\n",
    "            for j in wordBank:\n",
    "                if targetString[i:len(j)+i]==j:\n",
    "                    for jj in table[i]:\n",
    "                        if table[i+len(j)]==None:\n",
    "                            table[i+len(j)]=jj+[j]\n",
    "                        else:\n",
    "                            table[i+len(j)].append(jj+[j])\n",
    "                            \n",
    "                            \n",
    "    return table[-1]                   "
   ]
  },
  {
   "cell_type": "code",
   "execution_count": 2,
   "metadata": {},
   "outputs": [
    {
     "data": {
      "text/plain": [
       "[['abc', 'def']]"
      ]
     },
     "execution_count": 2,
     "metadata": {},
     "output_type": "execute_result"
    }
   ],
   "source": [
    "allConstructTabulation(\"abcdef\",[\"ab\",\"abc\",\"cd\",\"def\",\"abcd\"])"
   ]
  },
  {
   "cell_type": "code",
   "execution_count": 3,
   "metadata": {},
   "outputs": [
    {
     "data": {
      "text/plain": [
       "[['purp', 'le'], ['p', 'ur', 'p', 'le']]"
      ]
     },
     "execution_count": 3,
     "metadata": {},
     "output_type": "execute_result"
    }
   ],
   "source": [
    "allConstructTabulation(\"purple\",[\"purp\",\"p\",\"ur\",\"le\",\"purpl\"])"
   ]
  }
 ],
 "metadata": {
  "kernelspec": {
   "display_name": "Python 3",
   "language": "python",
   "name": "python3"
  },
  "language_info": {
   "codemirror_mode": {
    "name": "ipython",
    "version": 3
   },
   "file_extension": ".py",
   "mimetype": "text/x-python",
   "name": "python",
   "nbconvert_exporter": "python",
   "pygments_lexer": "ipython3",
   "version": "3.9.0"
  }
 },
 "nbformat": 4,
 "nbformat_minor": 4
}
