{
 "cells": [
  {
   "cell_type": "markdown",
   "id": "a1ed90af",
   "metadata": {},
   "source": [
    "# Tabulation 0/1 Knapsack(Top Down Approach)\n",
    "\n",
    "Recursive calls - ❌\n",
    "\n",
    "Table - ✅"
   ]
  },
  {
   "cell_type": "code",
   "execution_count": 1,
   "id": "efbbb5f8",
   "metadata": {},
   "outputs": [
    {
     "data": {
      "text/plain": [
       "200"
      ]
     },
     "execution_count": 1,
     "metadata": {},
     "output_type": "execute_result"
    }
   ],
   "source": [
    "def KnapsackDP(w,v,W,n):\n",
    "    dp=[[0 for _ in range(W+1)]for _ in range(n+1)]\n",
    "    for i in range(1,n+1):\n",
    "        for j in range(1,W+1):\n",
    "            if w[i-1]<=j:\n",
    "                dp[i][j]=max(v[i-1]+dp[i-1][j-w[i-1]],dp[i-1][j])\n",
    "            else:\n",
    "                dp[i][j]=dp[i-1][j]\n",
    "    return dp[n][W]\n",
    "            \n",
    "    \n",
    "w=[ 1, 2, 3, 8, 7, 4 , 1, 2, 3, 8, 7, 4 , 1, 2, 3, 8, 7, 4  ]\n",
    "v=[ 20, 5, 10, 40, 15, 25,20, 5, 10, 40, 15, 25,20, 5, 10, 40, 15, 25]\n",
    "n=len(w)\n",
    "W=30\n",
    "KnapsackDP(w,v,W,n)"
   ]
  },
  {
   "cell_type": "markdown",
   "id": "d13968bf",
   "metadata": {},
   "source": [
    "# Memoized  0/1 Knapsack (Bottom Up Approach)\n",
    "\n",
    "Recursive calls - ✅\n",
    "\n",
    "Table - ✅"
   ]
  },
  {
   "cell_type": "code",
   "execution_count": 2,
   "id": "56c8ce11",
   "metadata": {},
   "outputs": [
    {
     "data": {
      "text/plain": [
       "200"
      ]
     },
     "execution_count": 2,
     "metadata": {},
     "output_type": "execute_result"
    }
   ],
   "source": [
    "def KnapsackDP(w,v,W,n):\n",
    "    \n",
    "    if n==0 or W==0:\n",
    "        return 0\n",
    "    if dp[n][W]!=-1:\n",
    "        return dp[n][W]\n",
    "    if w[n-1]<=W:\n",
    "        dp[n][W] = max(v[n-1]+KnapsackDP(w,v,W-w[n-1],n-1), KnapsackDP(w,v,W,n-1))\n",
    "        return dp[n][W]\n",
    "    elif w[n-1]>W:\n",
    "        dp[n][W]=KnapsackDP(w,v,W,n-1)\n",
    "        return dp[n][W]\n",
    "    \n",
    "w=[ 1, 2, 3, 8, 7, 4 , 1, 2, 3, 8, 7, 4 , 1, 2, 3, 8, 7, 4  ]\n",
    "v=[ 20, 5, 10, 40, 15, 25,20, 5, 10, 40, 15, 25,20, 5, 10, 40, 15, 25]\n",
    "n=len(w)\n",
    "W=30\n",
    "dp=[[-1 for _ in range(W+1)]for _ in range(n+1)]\n",
    "\n",
    "KnapsackDP(w,v,W,n)"
   ]
  },
  {
   "cell_type": "markdown",
   "id": "ffb6a2aa",
   "metadata": {},
   "source": [
    "# Recursive 0/1 Knapsack\n",
    "\n",
    "Recursive calls - ✅\n",
    "\n",
    "Table -  ❌"
   ]
  },
  {
   "cell_type": "code",
   "execution_count": 3,
   "id": "426dd8a3",
   "metadata": {},
   "outputs": [
    {
     "data": {
      "text/plain": [
       "200"
      ]
     },
     "execution_count": 3,
     "metadata": {},
     "output_type": "execute_result"
    }
   ],
   "source": [
    "def Knapsack(w,v,W,n):\n",
    "    if n==0 or W==0:\n",
    "        return 0\n",
    "    if w[n-1]<=W:\n",
    "        return max(v[n-1]+Knapsack(w,v,W-w[n-1],n-1), Knapsack(w,v,W,n-1))\n",
    "    elif w[n-1]>W:\n",
    "        return Knapsack(w,v,W,n-1)\n",
    "w=[ 1, 2, 3, 8, 7, 4 , 1, 2, 3, 8, 7, 4 , 1, 2, 3, 8, 7, 4  ]\n",
    "v=[ 20, 5, 10, 40, 15, 25,20, 5, 10, 40, 15, 25,20, 5, 10, 40, 15, 25]\n",
    "W=30\n",
    "n=len(w)\n",
    "n=len(w)\n",
    "Knapsack(w,v,W,n)\n"
   ]
  },
  {
   "cell_type": "markdown",
   "id": "a5a94b09",
   "metadata": {},
   "source": [
    "# Subset Sum (Tabulation Approach)"
   ]
  },
  {
   "cell_type": "code",
   "execution_count": 4,
   "id": "a97a818c",
   "metadata": {},
   "outputs": [
    {
     "data": {
      "text/plain": [
       "True"
      ]
     },
     "execution_count": 4,
     "metadata": {},
     "output_type": "execute_result"
    }
   ],
   "source": [
    "def subsetSum(arr,S):\n",
    "    dp=[[False for _ in range(S+1)] for _ in range(len(arr)+1)]\n",
    "    for i in range(len(arr)+1):\n",
    "        for j in range(S+1):\n",
    "            if j==0:\n",
    "                dp[i][j]=True\n",
    "            if i ==0:\n",
    "                continue\n",
    "            if arr[i-1]<=j:\n",
    "                dp[i][j]=dp[i-1][j-arr[i-1]] or dp[i-1][j]\n",
    "            else:\n",
    "                dp[i][j]=dp[i-1][j]\n",
    "    return dp[len(arr)][S]\n",
    "    \n",
    "\n",
    "S=10\n",
    "arr=[23,43,45,78,9,8,7,2,3]\n",
    "subsetSum(arr,S)"
   ]
  },
  {
   "cell_type": "markdown",
   "id": "94723c4d",
   "metadata": {},
   "source": [
    "# \"Equal Sum Partiton\" by using already coded function Subset Sum (Tabulation Approach)"
   ]
  },
  {
   "cell_type": "code",
   "execution_count": 5,
   "id": "ec47690f",
   "metadata": {},
   "outputs": [
    {
     "data": {
      "text/plain": [
       "True"
      ]
     },
     "execution_count": 5,
     "metadata": {},
     "output_type": "execute_result"
    }
   ],
   "source": [
    "def equalSumPartiton(arr):\n",
    "    S=sum(arr)\n",
    "    if S%2==0:\n",
    "        return subsetSum(arr,int(S/2))\n",
    "    else:\n",
    "        return False\n",
    "arr=[1,1,4,5,1]\n",
    "equalSumPartiton(arr)"
   ]
  },
  {
   "cell_type": "markdown",
   "id": "21b17f63",
   "metadata": {},
   "source": [
    "# Count Subset Sum (Tabulation Approach)"
   ]
  },
  {
   "cell_type": "code",
   "execution_count": 6,
   "id": "c49e0710",
   "metadata": {},
   "outputs": [
    {
     "data": {
      "text/plain": [
       "3"
      ]
     },
     "execution_count": 6,
     "metadata": {},
     "output_type": "execute_result"
    }
   ],
   "source": [
    "def countSubsetSum(arr,S):\n",
    "    dp=[[0 for _ in range(S+1)] for _ in range(len(arr)+1)]\n",
    "    for i in range(len(arr)+1):\n",
    "        for j in range(S+1):\n",
    "            if j==0:\n",
    "                dp[i][j]=1\n",
    "            if i ==0:\n",
    "                continue\n",
    "            if arr[i-1]<=j:\n",
    "                dp[i][j]=dp[i-1][j-arr[i-1]] + dp[i-1][j]\n",
    "            else:\n",
    "                dp[i][j]=dp[i-1][j]\n",
    "    return dp[len(arr)][S]\n",
    "    \n",
    "\n",
    "S=10\n",
    "arr=[2,3,5,6,8,10]\n",
    "countSubsetSum(arr,S)"
   ]
  },
  {
   "cell_type": "markdown",
   "id": "ca4c3cef",
   "metadata": {},
   "source": [
    "# Minimum Subset Difference (Recursive approach)"
   ]
  },
  {
   "cell_type": "code",
   "execution_count": 7,
   "id": "ffccc3c2",
   "metadata": {},
   "outputs": [
    {
     "data": {
      "text/plain": [
       "1"
      ]
     },
     "execution_count": 7,
     "metadata": {},
     "output_type": "execute_result"
    }
   ],
   "source": [
    "def minimumSubsetDifference(arr,S1,S2,n):\n",
    "    if n==0:\n",
    "        return abs(S1-S2)\n",
    "    temp=arr[n-1]\n",
    "    return min(minimumSubsetDifference(arr,S1,S2,n-1),minimumSubsetDifference(arr,S1-temp,S2+temp,n-1))\n",
    "\n",
    "arr=[1,6,5,11]\n",
    "S=sum(arr)\n",
    "mindiff=S\n",
    "minimumSubsetDifference(arr,S,0,len(arr))"
   ]
  },
  {
   "cell_type": "code",
   "execution_count": 8,
   "id": "b2d4a1f5",
   "metadata": {},
   "outputs": [
    {
     "data": {
      "text/plain": [
       "1"
      ]
     },
     "execution_count": 8,
     "metadata": {},
     "output_type": "execute_result"
    }
   ],
   "source": [
    "def minimumSubsetDifference(arr,S1,n):\n",
    "    if n==0:\n",
    "        return abs(S1-(sum(arr)-S1))\n",
    "\n",
    "    return min(minimumSubsetDifference(arr,S1,n-1),minimumSubsetDifference(arr,S1-arr[n-1],n-1))\n",
    "\n",
    "arr=[1,6,5,11]\n",
    "S=sum(arr)\n",
    "mindiff=S\n",
    "minimumSubsetDifference(arr,S,len(arr))"
   ]
  },
  {
   "cell_type": "markdown",
   "id": "a4ef93fc",
   "metadata": {},
   "source": [
    "#  \"Minimum Subset Difference\" by already coded function Subset Sum(Tabulation Approach) by little change in that."
   ]
  },
  {
   "cell_type": "code",
   "execution_count": 9,
   "id": "532d4201",
   "metadata": {},
   "outputs": [
    {
     "data": {
      "text/plain": [
       "1"
      ]
     },
     "execution_count": 9,
     "metadata": {},
     "output_type": "execute_result"
    }
   ],
   "source": [
    "def subsetSum(arr,S):\n",
    "    \n",
    "    dp=[[False for _ in range(S+1)] for _ in range(len(arr)+1)]\n",
    "    for i in range(len(arr)+1):\n",
    "        for j in range(S+1):\n",
    "            if j==0:\n",
    "                dp[i][j]=True\n",
    "            if i ==0:\n",
    "                continue\n",
    "            if arr[i-1]<=j:\n",
    "                dp[i][j]=dp[i-1][j-arr[i-1]] or dp[i-1][j]\n",
    "            else:\n",
    "                dp[i][j]=dp[i-1][j]\n",
    "    return dp[len(arr)]\n",
    "\n",
    "\n",
    "def minimumSubsetDifference(arr):\n",
    "    S=sum(arr)\n",
    "    dp=subsetSum(arr,S)\n",
    "    minf=S\n",
    "    for i in range((len(dp)//2) + 1):\n",
    "        if dp[i]:\n",
    "            minf=min(minf,abs(S-(i+i)))\n",
    "\n",
    "    return minf\n",
    "arr=[1,6,5,11]\n",
    "minimumSubsetDifference(arr)"
   ]
  },
  {
   "cell_type": "markdown",
   "id": "a85bab52",
   "metadata": {},
   "source": [
    " # \"Count Subset Difference\" by already coded function count Subset Sum (Tabulation Approach) - (Target Sum)"
   ]
  },
  {
   "cell_type": "code",
   "execution_count": 10,
   "id": "e03e616b",
   "metadata": {},
   "outputs": [
    {
     "data": {
      "text/plain": [
       "3"
      ]
     },
     "execution_count": 10,
     "metadata": {},
     "output_type": "execute_result"
    }
   ],
   "source": [
    "def countSubsetSum(arr,S):\n",
    "    dp=[[0 for _ in range(S+1)] for _ in range(len(arr)+1)]\n",
    "    for i in range(len(arr)+1):\n",
    "        for j in range(S+1):\n",
    "            if j==0:\n",
    "                dp[i][j]=1\n",
    "            if i ==0:\n",
    "                continue\n",
    "            if arr[i-1]<=j:\n",
    "                dp[i][j]=dp[i-1][j-arr[i-1]] + dp[i-1][j]\n",
    "            else:\n",
    "                dp[i][j]=dp[i-1][j]\n",
    "    return dp[len(arr)][S]\n",
    "def countSubsetDifference(arr,S):\n",
    "        S1=sum(arr)\n",
    "        if (S1 < S or (S1+S) %2 != 0):\n",
    "            return 0\n",
    "        return countSubsetSum(arr,(S1-S)//2)\n",
    "countSubsetDifference([1,1,2,3],1)"
   ]
  },
  {
   "cell_type": "markdown",
   "id": "e893c1c2",
   "metadata": {},
   "source": [
    "# Unbounded Knapsack (Recursive)"
   ]
  },
  {
   "cell_type": "code",
   "execution_count": 11,
   "id": "68f33d25",
   "metadata": {
    "scrolled": true
   },
   "outputs": [
    {
     "data": {
      "text/plain": [
       "600"
      ]
     },
     "execution_count": 11,
     "metadata": {},
     "output_type": "execute_result"
    }
   ],
   "source": [
    "def Knapsack(w,v,W,n):\n",
    "    if n==0 or W==0:\n",
    "        return 0\n",
    "    if w[n-1]<=W:\n",
    "        return max(v[n-1]+Knapsack(w,v,W-w[n-1],n), Knapsack(w,v,W,n-1))\n",
    "    elif w[n-1]>W:\n",
    "        return Knapsack(w,v,W,n-1)\n",
    "w=[ 1, 2, 3, 8, 7, 4 , 1, 2, 3, 8, 7, 4 , 1, 2, 3, 8, 7, 4  ]\n",
    "v=[ 20, 5, 10, 40, 15, 25,20, 5, 10, 40, 15, 25,20, 5, 10, 40, 15, 25]\n",
    "W=30\n",
    "n=len(w)\n",
    "n=len(w)\n",
    "Knapsack(w,v,W,n)"
   ]
  },
  {
   "cell_type": "markdown",
   "id": "f2196258",
   "metadata": {},
   "source": [
    "# Unbounded Knapsack DP by Memoized"
   ]
  },
  {
   "cell_type": "code",
   "execution_count": 12,
   "id": "bad4a193",
   "metadata": {},
   "outputs": [
    {
     "data": {
      "text/plain": [
       "600"
      ]
     },
     "execution_count": 12,
     "metadata": {},
     "output_type": "execute_result"
    }
   ],
   "source": [
    "def KnapsackDP(w,v,W,n):\n",
    "    \n",
    "    if n==0 or W==0:\n",
    "        return 0\n",
    "    if dp[n][W]!=-1:\n",
    "        return dp[n][W]\n",
    "    if w[n-1]<=W:\n",
    "        dp[n][W] = max(v[n-1]+KnapsackDP(w,v,W-w[n-1],n), KnapsackDP(w,v,W,n-1))\n",
    "        return dp[n][W]\n",
    "    elif w[n-1]>W:\n",
    "        dp[n][W]=KnapsackDP(w,v,W,n-1)\n",
    "        return dp[n][W]\n",
    "    \n",
    "w=[ 1, 2, 3, 8, 7, 4 , 1, 2, 3, 8, 7, 4 , 1, 2, 3, 8, 7, 4  ]\n",
    "v=[ 20, 5, 10, 40, 15, 25,20, 5, 10, 40, 15, 25,20, 5, 10, 40, 15, 25]\n",
    "n=len(w)\n",
    "W=30\n",
    "dp=[[-1 for _ in range(W+1)]for _ in range(n+1)]\n",
    "KnapsackDP(w,v,W,n)\n"
   ]
  },
  {
   "cell_type": "markdown",
   "id": "0740b901",
   "metadata": {},
   "source": [
    "# Unbounded Knapsack DP by Tabulation (Rod Cutting)\n",
    "\n",
    "W- length of rod\n",
    "\n",
    "w - length of pieces\n",
    "\n",
    "v- price of pieces \n",
    "\n",
    "Maximise the profit"
   ]
  },
  {
   "cell_type": "code",
   "execution_count": 13,
   "id": "559005ef",
   "metadata": {},
   "outputs": [
    {
     "data": {
      "text/plain": [
       "8"
      ]
     },
     "execution_count": 13,
     "metadata": {},
     "output_type": "execute_result"
    }
   ],
   "source": [
    "\n",
    "def UnboundedKnapsackDP(w,v,W,n):\n",
    "    dp=[[0 for _ in range(W+1)] for _ in range(n+1)]\n",
    "    for i in range(1,n+1):\n",
    "        for j in range(1,W+1):\n",
    "            if w[i-1]<=j:\n",
    "                dp[i][j]=max(v[i-1]+dp[i][j-w[i-1]],dp[i-1][j])\n",
    "            else:\n",
    "                dp[i][j]=dp[i-1][j]\n",
    "    return dp[n][W]\n",
    "n=8\n",
    "w=[i for i in range(1,n+1)]\n",
    "v=[1,2,3,4,5,6,7,8]\n",
    "UnboundedKnapsackDP(w,v,8,n)"
   ]
  },
  {
   "cell_type": "markdown",
   "id": "eae8e8f7",
   "metadata": {},
   "source": [
    "# Count Subset Sum Unbounded Knapsack (Coin change problem: Maximum number of ways) (Tabulation Method)"
   ]
  },
  {
   "cell_type": "code",
   "execution_count": 14,
   "id": "f7d17a91",
   "metadata": {},
   "outputs": [
    {
     "data": {
      "text/plain": [
       "12573"
      ]
     },
     "execution_count": 14,
     "metadata": {},
     "output_type": "execute_result"
    }
   ],
   "source": [
    "def countSubsetSum(arr,S):\n",
    "    dp=[[0 for _ in range(S+1)] for _ in range(len(arr)+1)]\n",
    "    for i in range(len(arr)+1):\n",
    "        for j in range(S+1):\n",
    "            if j==0:\n",
    "                dp[i][j]=1\n",
    "            if i ==0:\n",
    "                continue\n",
    "            if arr[i-1]<=j:\n",
    "                dp[i][j]=dp[i][j-arr[i-1]] + dp[i-1][j]\n",
    "            else:\n",
    "                dp[i][j]=dp[i-1][j]\n",
    "    return dp[len(arr)][S]\n",
    "    \n",
    "\n",
    "S=100\n",
    "arr=[2,3,5,6,8,10]\n",
    "countSubsetSum(arr,S)"
   ]
  },
  {
   "cell_type": "markdown",
   "id": "dcad9201",
   "metadata": {},
   "source": [
    "# Coin Change Problem Minimum Numbers of coins (Tabulation Method)"
   ]
  },
  {
   "cell_type": "code",
   "execution_count": 15,
   "id": "450aa6e6",
   "metadata": {},
   "outputs": [
    {
     "data": {
      "text/plain": [
       "3"
      ]
     },
     "execution_count": 15,
     "metadata": {},
     "output_type": "execute_result"
    }
   ],
   "source": [
    "def coinChange(arr,S):\n",
    "    n=len(arr)\n",
    "    dp=[[S+1 for _ in range(S+1)] for _ in range(n+1)]\n",
    "    for i in range(n+1):\n",
    "        for j in range(S+1):\n",
    "            if j ==0:\n",
    "                dp[i][j]=0\n",
    "            if i ==0:\n",
    "                continue\n",
    "            if arr[i-1]<=j:\n",
    "                dp[i][j]=min(1+dp[i][j-arr[i-1]],dp[i-1][j])\n",
    "            else:\n",
    "                dp[i][j]=dp[i-1][j]\n",
    "    if dp[n][S]>S:\n",
    "        return \"no way\"\n",
    "    return dp[n][S]\n",
    "coinChange([2,1,5],11)"
   ]
  }
 ],
 "metadata": {
  "kernelspec": {
   "display_name": "Python 3 (ipykernel)",
   "language": "python",
   "name": "python3"
  },
  "language_info": {
   "codemirror_mode": {
    "name": "ipython",
    "version": 3
   },
   "file_extension": ".py",
   "mimetype": "text/x-python",
   "name": "python",
   "nbconvert_exporter": "python",
   "pygments_lexer": "ipython3",
   "version": "3.9.7"
  }
 },
 "nbformat": 4,
 "nbformat_minor": 5
}
