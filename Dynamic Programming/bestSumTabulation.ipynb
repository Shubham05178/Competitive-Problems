{
 "cells": [
  {
   "cell_type": "markdown",
   "metadata": {},
   "source": [
    "Time Complexity - O(m*m*n)\n",
    "\n",
    "Space Complexity(m*m)\n",
    "\n",
    "where m is targetSum and n is length of array of numbers"
   ]
  },
  {
   "cell_type": "code",
   "execution_count": 5,
   "metadata": {},
   "outputs": [],
   "source": [
    "def bestSumTabulation(targetSum,numbers):\n",
    "    table=[None  for _ in range(targetSum+1)]\n",
    "    table[0]=[]\n",
    "    for i in range(targetSum+1):\n",
    "        if table[i]!=None:    \n",
    "            for j in numbers:\n",
    "                if i +j <= targetSum:\n",
    "                    if table[i+j] ==None:\n",
    "                        table[i+j]=table[i]+[j]\n",
    "                    else:\n",
    "                        if len(table[i+j])>len(table[i])+1:\n",
    "                            table[i+j]=table[i]+[j]\n",
    "    return table[targetSum]"
   ]
  },
  {
   "cell_type": "code",
   "execution_count": 6,
   "metadata": {},
   "outputs": [
    {
     "data": {
      "text/plain": [
       "[3, 4]"
      ]
     },
     "execution_count": 6,
     "metadata": {},
     "output_type": "execute_result"
    }
   ],
   "source": [
    "bestSumTabulation(7,[1,5,3,4 ,14])"
   ]
  }
 ],
 "metadata": {
  "kernelspec": {
   "display_name": "Python 3",
   "language": "python",
   "name": "python3"
  },
  "language_info": {
   "codemirror_mode": {
    "name": "ipython",
    "version": 3
   },
   "file_extension": ".py",
   "mimetype": "text/x-python",
   "name": "python",
   "nbconvert_exporter": "python",
   "pygments_lexer": "ipython3",
   "version": "3.9.0"
  }
 },
 "nbformat": 4,
 "nbformat_minor": 4
}
