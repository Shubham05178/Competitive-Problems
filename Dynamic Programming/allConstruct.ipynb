{
 "cells": [
  {
   "cell_type": "markdown",
   "metadata": {},
   "source": [
    "# Brute Force Method\n",
    "\n",
    "Time Complexity - O(n^m *m)\n",
    "\n",
    "Space Complexity - O(m*m)\n",
    "\n",
    "where n is length of wordbank and m is target length"
   ]
  },
  {
   "cell_type": "code",
   "execution_count": 1,
   "metadata": {},
   "outputs": [],
   "source": [
    "def allConstructRec(target,wordBank):\n",
    "    if target=='':\n",
    "        return [[]]\n",
    "    result=[]\n",
    "    for i in wordBank:\n",
    "        if i in target and target.index(i)==0:\n",
    "            suffix=target[len(i):]\n",
    "            suffixWays=allConstructRec(suffix,wordBank)\n",
    "            for j in suffixWays:\n",
    "                j.insert(0,i)\n",
    "                result.append(j)\n",
    "    return result"
   ]
  },
  {
   "cell_type": "code",
   "execution_count": 2,
   "metadata": {},
   "outputs": [
    {
     "data": {
      "text/plain": [
       "[['purp', 'le'], ['p', 'ur', 'p', 'le']]"
      ]
     },
     "execution_count": 2,
     "metadata": {},
     "output_type": "execute_result"
    }
   ],
   "source": [
    "allConstructRec(\"purple\",[\"purp\",\"p\",\"ur\",\"le\",\"purpl\"])"
   ]
  },
  {
   "cell_type": "code",
   "execution_count": 3,
   "metadata": {},
   "outputs": [
    {
     "data": {
      "text/plain": [
       "[['ab', 'cd', 'ef'], ['ab', 'c', 'def'], ['abc', 'def'], ['abcd', 'ef']]"
      ]
     },
     "execution_count": 3,
     "metadata": {},
     "output_type": "execute_result"
    }
   ],
   "source": [
    "allConstructRec(\"abcdef\",[\"ab\",\"abc\",\"cd\",\"def\",\"abcd\",\"ef\",\"c\"])"
   ]
  },
  {
   "cell_type": "code",
   "execution_count": 4,
   "metadata": {},
   "outputs": [
    {
     "data": {
      "text/plain": [
       "[]"
      ]
     },
     "execution_count": 4,
     "metadata": {},
     "output_type": "execute_result"
    }
   ],
   "source": [
    "allConstructRec(\"skateboard\",[\"bo\",\"rd\",\"ate\",\"t\",\"ska\",\"sk\",\"boar\"])"
   ]
  },
  {
   "cell_type": "code",
   "execution_count": 5,
   "metadata": {},
   "outputs": [],
   "source": [
    "#allConstructRec(\"eeeeeeeeeeeeeeeeeeeeeeeeeeeeeeeeeeeeeeeeeeeeeeeeeeeeeeeeeeeeeeeeeeeeeeeeef\",[\"e\",\"ee\",\"eee\",\"eeee\",\"eeeee\",\"eeeeee\"])\n",
    "#Taking Time"
   ]
  },
  {
   "cell_type": "markdown",
   "metadata": {},
   "source": [
    "# Dynamic Programming (Memoization)\n",
    "\n",
    "Time Complexity - O(n*m *m)\n",
    "\n",
    "Space Complexity - O(m*m)\n",
    "\n",
    "where n is length of wordbank and m is target length"
   ]
  },
  {
   "cell_type": "code",
   "execution_count": 6,
   "metadata": {},
   "outputs": [],
   "source": [
    "def allConstructDP(target,wordBank,memo={}):\n",
    "    if target in memo:\n",
    "        return memo[target]\n",
    "    if target=='':\n",
    "        return [[]]\n",
    "    result=[]\n",
    "    for i in wordBank:\n",
    "        if i in target and target.index(i)==0:\n",
    "            suffix=target[len(i):]\n",
    "            suffixWays=allConstructDP(suffix,wordBank,memo)\n",
    "            for j in suffixWays:\n",
    "                j.insert(0,i)\n",
    "                result.append(j)\n",
    "    memo[target]=result\n",
    "    return result"
   ]
  },
  {
   "cell_type": "code",
   "execution_count": 7,
   "metadata": {},
   "outputs": [
    {
     "data": {
      "text/plain": [
       "[]"
      ]
     },
     "execution_count": 7,
     "metadata": {},
     "output_type": "execute_result"
    }
   ],
   "source": [
    "allConstructDP(\"eeeeeeeeeeeeeeeeeeeeeeeeeeeeeeeeeeeeeeeeeeeeeeeeeeeeeeeeeeeeeeeeeeeeeeeeef\",[\"e\",\"ee\",\"eee\",\"eeee\",\"eeeee\",\"eeeeee\"])\n"
   ]
  },
  {
   "cell_type": "code",
   "execution_count": null,
   "metadata": {},
   "outputs": [],
   "source": []
  }
 ],
 "metadata": {
  "kernelspec": {
   "display_name": "Python 3",
   "language": "python",
   "name": "python3"
  },
  "language_info": {
   "codemirror_mode": {
    "name": "ipython",
    "version": 3
   },
   "file_extension": ".py",
   "mimetype": "text/x-python",
   "name": "python",
   "nbconvert_exporter": "python",
   "pygments_lexer": "ipython3",
   "version": "3.9.0"
  }
 },
 "nbformat": 4,
 "nbformat_minor": 4
}
