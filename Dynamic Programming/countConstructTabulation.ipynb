{
 "cells": [
  {
   "cell_type": "markdown",
   "metadata": {},
   "source": [
    "Time Complexity - O(m * n * m)\n",
    "\n",
    "Space Complexity -O(m)"
   ]
  },
  {
   "cell_type": "code",
   "execution_count": 1,
   "metadata": {},
   "outputs": [],
   "source": [
    "def countConstructTabulation(targetString,wordBank):\n",
    "    table=[0 for _ in range(len(targetString)+1)]\n",
    "    table[0]=1\n",
    "    \n",
    "    for i in range (len(targetString)):\n",
    "        if table[i]!=0:\n",
    "            for j in wordBank:\n",
    "                if targetString[i:i+len(j)]==j:\n",
    "                    table[i+len(j)]+=table[i]\n",
    "    return table[-1]\n",
    "\n",
    "                    "
   ]
  },
  {
   "cell_type": "code",
   "execution_count": 2,
   "metadata": {},
   "outputs": [
    {
     "data": {
      "text/plain": [
       "1"
      ]
     },
     "execution_count": 2,
     "metadata": {},
     "output_type": "execute_result"
    }
   ],
   "source": [
    "countConstructTabulation(\"abcdef\",[\"ab\",\"abc\",\"cd\",\"def\",\"abcd\"])"
   ]
  },
  {
   "cell_type": "code",
   "execution_count": 3,
   "metadata": {},
   "outputs": [
    {
     "data": {
      "text/plain": [
       "0"
      ]
     },
     "execution_count": 3,
     "metadata": {},
     "output_type": "execute_result"
    }
   ],
   "source": [
    "countConstructTabulation(\"zzzzzzzzzzzzzzzzzzzzzzzzzzzzzzzzzzzzzzzf\",[\"z\",\"zz\",\"zzz\",\"zzzz\",\"zzzz\",\"zzzzz\",\"zzzzzz\"])"
   ]
  },
  {
   "cell_type": "code",
   "execution_count": 4,
   "metadata": {},
   "outputs": [
    {
     "data": {
      "text/plain": [
       "2"
      ]
     },
     "execution_count": 4,
     "metadata": {},
     "output_type": "execute_result"
    }
   ],
   "source": [
    "countConstructTabulation(\"purple\",[\"purp\",\"p\",\"ur\",\"le\",\"purpl\"])"
   ]
  }
 ],
 "metadata": {
  "kernelspec": {
   "display_name": "Python 3",
   "language": "python",
   "name": "python3"
  },
  "language_info": {
   "codemirror_mode": {
    "name": "ipython",
    "version": 3
   },
   "file_extension": ".py",
   "mimetype": "text/x-python",
   "name": "python",
   "nbconvert_exporter": "python",
   "pygments_lexer": "ipython3",
   "version": "3.9.0"
  }
 },
 "nbformat": 4,
 "nbformat_minor": 4
}
