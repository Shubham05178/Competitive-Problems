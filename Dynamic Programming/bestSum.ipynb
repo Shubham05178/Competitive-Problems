{
 "cells": [
  {
   "cell_type": "markdown",
   "metadata": {},
   "source": [
    "How can we calculate target sum from Numbers array in very less numbers\n",
    "# Brute Force Method (Recursive)\n",
    "Time Complexity- O(n^m * m )\n",
    "\n",
    "Space Complexity -O(m*m)\n",
    "\n",
    "where n is numbers length and m is target sum"
   ]
  },
  {
   "cell_type": "code",
   "execution_count": 1,
   "metadata": {},
   "outputs": [],
   "source": [
    "def bestSumRec(targetSum,numbers):\n",
    "    if targetSum==0:\n",
    "        return []\n",
    "    if targetSum<0:\n",
    "        return None\n",
    "    shortestCombination=None\n",
    "    for i in numbers:\n",
    "        diff=targetSum-i\n",
    "        s=bestSumRec(diff,numbers)\n",
    "        if s!=None:\n",
    "            combination=s+[i]\n",
    "            if shortestCombination==None or len(combination)<len(shortestCombination):\n",
    "                shortestCombination=combination\n",
    "                \n",
    "    \n",
    "    return shortestCombination"
   ]
  },
  {
   "cell_type": "code",
   "execution_count": 2,
   "metadata": {},
   "outputs": [
    {
     "data": {
      "text/plain": [
       "[5, 3]"
      ]
     },
     "execution_count": 2,
     "metadata": {},
     "output_type": "execute_result"
    }
   ],
   "source": [
    "bestSumRec(8,[2,3,5])"
   ]
  },
  {
   "cell_type": "code",
   "execution_count": 3,
   "metadata": {},
   "outputs": [],
   "source": [
    "#bestSumRec(100,[1,2,5,25])\n",
    "#taking time"
   ]
  },
  {
   "cell_type": "markdown",
   "metadata": {},
   "source": [
    "# Dynamic Programming (Memoized)\n",
    "Time Complexity- O(n*m * m)\n",
    "\n",
    "Space Complexity -O(m*m)\n",
    "\n",
    "where n is numbers length and m is target sum"
   ]
  },
  {
   "cell_type": "code",
   "execution_count": 6,
   "metadata": {},
   "outputs": [],
   "source": [
    "def bestSumDP(targetSum,numbers,memo={}):\n",
    "    if targetSum in memo:\n",
    "        return memo[targetSum]\n",
    "    if targetSum==0:\n",
    "        return []\n",
    "    if targetSum<0:\n",
    "        return None\n",
    "    shortestCombination=None\n",
    "    for i in numbers:\n",
    "        diff=targetSum-i\n",
    "        s=bestSumDP(diff,numbers,memo)\n",
    "        if s!=None:\n",
    "            combination=s+[i]\n",
    "            if shortestCombination==None or len(combination)<len(shortestCombination):\n",
    "                shortestCombination=combination\n",
    "    \n",
    "    memo[targetSum]= shortestCombination\n",
    "    return memo[targetSum]"
   ]
  },
  {
   "cell_type": "code",
   "execution_count": 7,
   "metadata": {},
   "outputs": [
    {
     "data": {
      "text/plain": [
       "[25, 25, 25, 25]"
      ]
     },
     "execution_count": 7,
     "metadata": {},
     "output_type": "execute_result"
    }
   ],
   "source": [
    "bestSumDP(100,[1,2,5,25])"
   ]
  },
  {
   "cell_type": "code",
   "execution_count": null,
   "metadata": {},
   "outputs": [],
   "source": []
  }
 ],
 "metadata": {
  "kernelspec": {
   "display_name": "Python 3",
   "language": "python",
   "name": "python3"
  },
  "language_info": {
   "codemirror_mode": {
    "name": "ipython",
    "version": 3
   },
   "file_extension": ".py",
   "mimetype": "text/x-python",
   "name": "python",
   "nbconvert_exporter": "python",
   "pygments_lexer": "ipython3",
   "version": "3.7.6rc1"
  }
 },
 "nbformat": 4,
 "nbformat_minor": 4
}
