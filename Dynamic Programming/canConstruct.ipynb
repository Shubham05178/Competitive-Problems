{
 "cells": [
  {
   "cell_type": "markdown",
   "source": [
    "# Brute force Method (Recursion)\n",
    "Time Complexity- O(n^m * m)\n",
    "\n",
    "Space Complexity - O(m*m)\n",
    "\n",
    "\n",
    "where n is length of word bank and m is length of target  "
   ],
   "metadata": {}
  },
  {
   "cell_type": "code",
   "execution_count": 21,
   "source": [
    "def canConstructRec(target,wordBank):\n",
    "    if target == '':\n",
    "        return True\n",
    "    for i in wordBank:\n",
    "        if i in target and target.index(i)==0:\n",
    "            suffix=target[len(i):]\n",
    "            return canConstructRec(suffix,wordBank)\n",
    "    return False"
   ],
   "outputs": [],
   "metadata": {}
  },
  {
   "cell_type": "code",
   "execution_count": 22,
   "source": [
    "canConstructRec(\"abcdef\",[\"abc\",\"ab\",\"cd\",\"def\",\"abcd\"])"
   ],
   "outputs": [
    {
     "output_type": "execute_result",
     "data": {
      "text/plain": [
       "True"
      ]
     },
     "metadata": {},
     "execution_count": 22
    }
   ],
   "metadata": {}
  },
  {
   "cell_type": "code",
   "execution_count": 20,
   "source": [
    "canConstructRec(\"eeeeeeeeeeeeeeeeeeeeeeeeeeeeeeeeeeeeeeeeeeeeeeeeeeeeeeeeeeeeeeeeeef\",[\n",
    "    \"e\",\"ee\",\"eee\",\"eeee\",\"eeeee\",\"eeeeee\"\n",
    "])"
   ],
   "outputs": [
    {
     "output_type": "execute_result",
     "data": {
      "text/plain": [
       "False"
      ]
     },
     "metadata": {},
     "execution_count": 20
    }
   ],
   "metadata": {}
  },
  {
   "cell_type": "markdown",
   "source": [
    "# Dynamic Programming (Memoization)\n",
    "Time Complexity- O(n*m*m)\n",
    "\n",
    "Space Complexity- O(m*m)\n",
    "\n",
    "where n is length of word bank and m is length of target"
   ],
   "metadata": {}
  },
  {
   "cell_type": "code",
   "execution_count": 23,
   "source": [
    "def canConstructDP(target,wordBank,memo={}):\n",
    "    if target in memo:\n",
    "        return memo[target]\n",
    "    if target == '':\n",
    "        return True\n",
    "    for i in wordBank:\n",
    "        if i in target and target.index(i)==0:\n",
    "            suffix=target[len(i):]\n",
    "            if canConstructDP(suffix,wordBank,memo):\n",
    "                memo[target]=True\n",
    "                return memo[target]\n",
    "    memo[target]=False  \n",
    "    return memo[target]"
   ],
   "outputs": [],
   "metadata": {}
  },
  {
   "cell_type": "code",
   "execution_count": 24,
   "source": [
    "canConstructDP(\"eeeeeeeeeeeeeeeeeeeeeeeeeeeeeeeeeeeeeeeeeeeeeeeeeeeeeeeeeeeeeeeeeef\",[\n",
    "    \"e\",\"ee\",\"eee\",\"eeee\",\"eeeee\",\"eeeeee\"\n",
    "])"
   ],
   "outputs": [
    {
     "output_type": "execute_result",
     "data": {
      "text/plain": [
       "False"
      ]
     },
     "metadata": {},
     "execution_count": 24
    }
   ],
   "metadata": {}
  },
  {
   "cell_type": "code",
   "execution_count": 17,
   "source": [
    "canConstructDP(\"abcdef\",[\"abc\",\"ab\",\"cd\",\"def\",\"abcd\"])"
   ],
   "outputs": [
    {
     "output_type": "execute_result",
     "data": {
      "text/plain": [
       "True"
      ]
     },
     "metadata": {},
     "execution_count": 17
    }
   ],
   "metadata": {}
  }
 ],
 "metadata": {
  "orig_nbformat": 4,
  "language_info": {
   "name": "python",
   "version": "3.8.12",
   "mimetype": "text/x-python",
   "codemirror_mode": {
    "name": "ipython",
    "version": 3
   },
   "pygments_lexer": "ipython3",
   "nbconvert_exporter": "python",
   "file_extension": ".py"
  },
  "kernelspec": {
   "name": "python3",
   "display_name": "Python 3.8.12 64-bit ('3.8.12': pyenv)"
  },
  "interpreter": {
   "hash": "625c31d6b4db3d7e7e2853cc30dc2062e1cda684f3e49d5f899ae496ae755fe0"
  }
 },
 "nbformat": 4,
 "nbformat_minor": 2
}