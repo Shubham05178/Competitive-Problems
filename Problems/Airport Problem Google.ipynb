{
 "cells": [
  {
   "cell_type": "code",
   "execution_count": 1,
   "metadata": {},
   "outputs": [],
   "source": [
    "from collections import defaultdict\n",
    "class Graph:\n",
    "    def __init__(self,vertices):\n",
    "        self.V=vertices\n",
    "        self.graph=defaultdict(list)\n",
    "        \n",
    "    def addEdge(self,u,v):\n",
    "        self.graph[u].append(v)\n",
    "        \n",
    "    def dfsUtil(self,v,visited,s):\n",
    "        visited[codeDicAirports[v]]=True\n",
    "        s.append(v)\n",
    "        for i in self.graph[v]:\n",
    "            if visited[codeDicAirports[i]]==False:\n",
    "                self.dfsUtil(i,visited,s)\n",
    "        return s\n",
    "    \n",
    "    def fillOrder(self,v,visited,stack):\n",
    "        visited[codeDicAirports[v]]=True\n",
    "        for i in self.graph[v]:\n",
    "            if visited[codeDicAirports[i]]==False:\n",
    "                self.fillOrder(i,visited,stack)\n",
    "        stack=stack.append(codeDicAirports[v])\n",
    "    \n",
    "    def getTranspose(self):\n",
    "        g=Graph(self.V)\n",
    "        for i in self.graph:\n",
    "            for j in self.graph[i]:\n",
    "                g.addEdge(j,i)\n",
    "        return g\n",
    "    \n",
    "    def printSCC(self):\n",
    "        stack=[]\n",
    "        visited=[False]*(self.V)\n",
    "        \n",
    "        for i in range(self.V):\n",
    "            if visited[i]==False:\n",
    "                self.fillOrder(codeDicAirports[i],visited,stack)\n",
    "        gr= self.getTranspose()\n",
    "        \n",
    "        visited=[False]*(self.V)\n",
    "        result=[]\n",
    "        res=[]\n",
    "        while stack:\n",
    "            i=stack.pop()\n",
    "            if visited[i]==False:\n",
    "                result.append(gr.dfsUtil(codeDicAirports[i],visited,res.copy()))\n",
    "            \n",
    "        return result\n",
    "        \n",
    "        \n",
    "        "
   ]
  },
  {
   "cell_type": "markdown",
   "metadata": {},
   "source": [
    "# Input "
   ]
  },
  {
   "cell_type": "code",
   "execution_count": 2,
   "metadata": {},
   "outputs": [],
   "source": [
    "#inputs\n",
    "airports=[\"BGI\", \"CDG\", \"DEL\", \"DOH\", \"DSM\", \"EWR\", \"EYW\", \"HND\", \"ICN\", \"JFK\", \"LGA\", \"LHR\", \"ORD\", \"SAN\", \"SFO\", \"SIN\", \"TLV\", \"BUD\"]\n",
    "routes=[[\"DSM\", \"ORD\"],[ \"ORD\", \"BGI\"],[\"BGI\",\"DSM\"], [\"BGI\", \"LGA\"],[\"LGA\",\"DSM\"], [\"SIN\", \"CDG\"], [\"CDG\", \"SIN\"], [\"CDG\", \"BUD\"], [\"DEL\", \"DOH\"], [\"DEL\", \"CDG\"], [\"TLV\", \"DEL\"], [\"EWR\", \"HND\"], [\"HND\", \"ICN\"], [\"HND\", \"JFK\"], [\"ICN\", \"JFK\"], [\"JFK\", \"LGA\"], [\"EYW\", \"LHR\"], [\"LHR\", \"SFO\"], [\"SFO\", \"SAN\"], [\"SFO\", \"DSM\"], [\"SAN\", \"EYW\"]]"
   ]
  },
  {
   "cell_type": "code",
   "execution_count": 3,
   "metadata": {},
   "outputs": [
    {
     "name": "stdout",
     "output_type": "stream",
     "text": [
      "You want to travel to world choose one airport from every Group , you have flights to all airports\n",
      "From Group No.1 choose one airport ['EWR']\n",
      "From Group No.2 choose one airport ['EYW', 'SAN', 'SFO', 'LHR']\n",
      "From Group No.3 choose one airport ['TLV']\n"
     ]
    }
   ],
   "source": [
    "codeDicAirports={}\n",
    "for i in range(len(airports)):\n",
    "    codeDicAirports[airports[i]]=i\n",
    "    codeDicAirports[i]=airports[i]\n",
    "\n",
    "totalAirports=len(airports)\n",
    "g=Graph(totalAirports)\n",
    "for idxRoutes1,idxRoutes2 in routes:\n",
    "    g.addEdge(idxRoutes1,idxRoutes2)\n",
    "stronglyConnected=g.printSCC()\n",
    "#print(stronglyConnected)\n",
    "groupMap={}\n",
    "for i in stronglyConnected:\n",
    "    for j in i:\n",
    "        groupMap[j]=i[0]\n",
    "        \n",
    "#print(groupMap)\n",
    "routesgroupMap=[]\n",
    "#print(routes)\n",
    "for idxRoutes1,idxRoutes2 in routes:\n",
    "    #print(idxRoutes1,idxRoutes2)\n",
    "    groupIdx1,groupIdx2=groupMap[idxRoutes1],groupMap[idxRoutes2]\n",
    "    #print(\"Grouped:\", groupIdx1,groupIdx2)\n",
    "    \n",
    "    if [groupIdx1,groupIdx2] not in routesgroupMap and groupIdx1!=groupIdx2:\n",
    "        routesgroupMap.append((groupIdx1,groupIdx2))\n",
    "inward=[]\n",
    "outward=[]\n",
    "for i,j in routesgroupMap:\n",
    "    #print(i,j)\n",
    "    inward.append(i)\n",
    "    outward.append(j)\n",
    "remaining=set(inward)-set(outward)\n",
    "grp=[]\n",
    "for i in remaining:\n",
    "    #print(i)\n",
    "    for j in stronglyConnected:\n",
    "        if i in j:\n",
    "            grp.append(j)\n",
    "print(\"You want to travel to world choose one airport from every Group , you have flights to all airports\")\n",
    "for i,j in  enumerate(grp):\n",
    "    print(f\"From Group No.{i+1} choose one airport {j}\")\n",
    "    \n",
    "    "
   ]
  },
  {
   "cell_type": "code",
   "execution_count": null,
   "metadata": {},
   "outputs": [],
   "source": []
  }
 ],
 "metadata": {
  "kernelspec": {
   "display_name": "Python 3",
   "language": "python",
   "name": "python3"
  },
  "language_info": {
   "codemirror_mode": {
    "name": "ipython",
    "version": 3
   },
   "file_extension": ".py",
   "mimetype": "text/x-python",
   "name": "python",
   "nbconvert_exporter": "python",
   "pygments_lexer": "ipython3",
   "version": "3.7.6rc1"
  }
 },
 "nbformat": 4,
 "nbformat_minor": 4
}
