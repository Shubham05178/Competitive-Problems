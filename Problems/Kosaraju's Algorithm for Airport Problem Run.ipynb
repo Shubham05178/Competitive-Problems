{
 "cells": [
  {
   "cell_type": "markdown",
   "metadata": {},
   "source": [
    "# Kosaraju's Algorithm \n",
    "\n",
    "for finding strongly connected components in graph"
   ]
  },
  {
   "cell_type": "code",
   "execution_count": 133,
   "metadata": {},
   "outputs": [],
   "source": [
    "from collections import defaultdict\n",
    "\n",
    "class Graph:\n",
    "    def __init__(self,vertices):\n",
    "        self.V=vertices\n",
    "        self.graph=defaultdict(list)\n",
    "        \n",
    "    def addEdge(self,u,v):\n",
    "        self.graph[u].append(v)\n",
    "        \n",
    "    def dfsUtil(self,v,visited,s):\n",
    "        visited[v]=True\n",
    "        s.append(v)\n",
    "        for i in self.graph[v]:\n",
    "            if visited[i]==False:\n",
    "                self.dfsUtil(i,visited,s)\n",
    "        return s\n",
    "    \n",
    "    def fillOrder(self,v,visited,stack):\n",
    "        visited[v]=True\n",
    "        for i in self.graph[v]:\n",
    "            if visited[i]==False:\n",
    "                self.fillOrder(i,visited,stack)\n",
    "        stack=stack.append(v)\n",
    "    \n",
    "    def getTranspose(self):\n",
    "        g=Graph(self.V)\n",
    "        for i in self.graph:\n",
    "            for j in self.graph[i]:\n",
    "                g.addEdge(j,i)\n",
    "        return g\n",
    "    \n",
    "    def printSCC(self):\n",
    "        stack=[]\n",
    "        visited=[False]*(self.V)\n",
    "        \n",
    "        for i in range(self.V):\n",
    "            if visited[i]==False:\n",
    "                self.fillOrder(i,visited,stack)\n",
    "        gr= self.getTranspose()\n",
    "        \n",
    "        visited=[False]*(self.V)\n",
    "        result=[]\n",
    "        res=[]\n",
    "        while stack:\n",
    "            i=stack.pop()\n",
    "            if visited[i]==False:\n",
    "                result.append(gr.dfsUtil(i,visited,res.copy()))\n",
    "            \n",
    "        return result"
   ]
  },
  {
   "cell_type": "code",
   "execution_count": 134,
   "metadata": {},
   "outputs": [
    {
     "data": {
      "text/plain": [
       "[[0, 1, 2], [3], [4]]"
      ]
     },
     "execution_count": 134,
     "metadata": {},
     "output_type": "execute_result"
    }
   ],
   "source": [
    "g = Graph(5)\n",
    "g.addEdge(1, 0)\n",
    "g.addEdge(0, 2)\n",
    "g.addEdge(2, 1)\n",
    "g.addEdge(0, 3)\n",
    "g.addEdge(3, 4)\n",
    "g.printSCC()"
   ]
  }
 ],
 "metadata": {
  "kernelspec": {
   "display_name": "Python 3",
   "language": "python",
   "name": "python3"
  },
  "language_info": {
   "codemirror_mode": {
    "name": "ipython",
    "version": 3
   },
   "file_extension": ".py",
   "mimetype": "text/x-python",
   "name": "python",
   "nbconvert_exporter": "python",
   "pygments_lexer": "ipython3",
   "version": "3.7.6rc1"
  }
 },
 "nbformat": 4,
 "nbformat_minor": 4
}
