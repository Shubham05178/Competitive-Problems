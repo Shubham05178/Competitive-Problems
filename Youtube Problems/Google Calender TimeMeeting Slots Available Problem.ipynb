{
 "cells": [
  {
   "cell_type": "markdown",
   "metadata": {},
   "source": [
    "# Problem Statement :\n",
    "https://www.youtube.com/watch?v=3Q_oYDQ2whs&t=1971s"
   ]
  },
  {
   "cell_type": "code",
   "execution_count": 5,
   "metadata": {},
   "outputs": [],
   "source": [
    "#sample Input:\n",
    "a_Meetings=[['9:00','10:30'],['12:00','13:00'],['16:00','18:00']]\n",
    "a_timeBound=['9:00','20:00']\n",
    "b_Meetings=[['10:00','11:30'],['12:30','14:30'],['14:30','15:00'],['16:00','17:00']]\n",
    "b_timeBound=['10:00','18:30']\n",
    "slot=30\n",
    "\n",
    "#expected Output : [['11:30', '12:00'], ['15:00', '16:00'], ['18:00', '18:30']]"
   ]
  },
  {
   "cell_type": "code",
   "execution_count": 6,
   "metadata": {},
   "outputs": [],
   "source": [
    "def available_TimeSlots(a_Meetings,b_Meetings,a_timeBound,b_timeBound,slot):\n",
    "\n",
    "    def commontimeline(a_timeBound,b_timeBound):\n",
    "        return [a_timeBound[0]  if a_timeBound[0]>b_timeBound[0] else b_timeBound[0], a_timeBound[1] if a_timeBound[1]<b_timeBound[1]  else b_timeBound[1]]\n",
    "\n",
    "    def convertIntoInteger(arr):\n",
    "        return [int(i.split(\":\")[0] )*60 + int(i.split(\":\")[1]) for i in arr]\n",
    "    \n",
    "    \n",
    "    a_timeline=convertIntoInteger(a_timeBound)\n",
    "    b_timeline=convertIntoInteger(b_timeBound)\n",
    "    common_t=commontimeline(a_timeline,b_timeline)\n",
    "    \n",
    "    \n",
    "    a_meet=[ convertIntoInteger(i) for i in a_Meetings]\n",
    "    b_meet=[convertIntoInteger(i) for i in b_Meetings]\n",
    "    def mergeSort(L,R):\n",
    "        i=0\n",
    "        j=0\n",
    "        k=0\n",
    "        arr=[]\n",
    "        while i < len(L) and j < len(R):\n",
    "            if L[i][0] < R[j][0]:\n",
    "                arr.append( L[i])\n",
    "                i += 1\n",
    "            else:\n",
    "                arr.append(R[j])\n",
    "                j += 1\n",
    "        while i < len(L):\n",
    "            arr.append(L[i])\n",
    "            i += 1\n",
    "\n",
    "        while j < len(R):\n",
    "            arr.append( R[j])\n",
    "            j += 1\n",
    "        return arr\n",
    "    merg=mergeSort(a_meet,b_meet)    \n",
    "    \n",
    "    def Start(merg,common_t):\n",
    "        if common_t[0]>merg[0][0]:\n",
    "            if common_t[0]>merg[0][1]:\n",
    "                del merg[0]\n",
    "                return Start(merg,common_t)\n",
    "            else:\n",
    "                return [common_t[0],merg[0][1]]\n",
    "        else:\n",
    "            return merg[0]\n",
    "    final_busy=[Start(merg,common_t)]\n",
    "    for idx in range(1,len(merg)):\n",
    "        i=merg[idx][0]\n",
    "        j=merg[idx][1]\n",
    "        if i > final_busy[-1][1] and j>=final_busy[-1][1]:\n",
    "            final_busy.append(merg[idx])\n",
    "        if i <= final_busy[-1][1] and j> final_busy[-1][1]:\n",
    "            final_busy[-1][1]=j\n",
    "        if i< final_busy[-1][1] and j <final_busy[-1][1]:\n",
    "            continue\n",
    "    def End(final_busy,common_t):\n",
    "        if common_t[1]<final_busy[-1][1]:\n",
    "            if common_t[1]<final_busy[-1][0]:\n",
    "                del final_busy[-1]\n",
    "                return End(final_busy,common_t)\n",
    "            else:\n",
    "                final_busy[-1][1]=common_t[1]\n",
    "                return \n",
    "        else:\n",
    "            final_busy.append([common_t[1]])\n",
    "            return \n",
    "    End(final_busy,common_t)\n",
    "    def convert_min_to(s):\n",
    "        min=str(s%60) if s%60>10 else str(s%60)+\"0\"\n",
    "        return str(s//60)+\":\"+ min\n",
    "\n",
    "    final_avail=[]\n",
    "    if final_busy[0][0]-common_t[0]>=slot:\n",
    "        final_avail.append([convert_min_to(common_t[0]),convert_min_to(final_busy[0][0])])\n",
    "    for i in range(len(final_busy)-1):\n",
    "        a,b=final_busy[i+1][0],final_busy[i][1]\n",
    "        if slot<=a-b:\n",
    "            final_avail.append([convert_min_to(b),convert_min_to(a)])\n",
    "    return final_avail"
   ]
  },
  {
   "cell_type": "code",
   "execution_count": 7,
   "metadata": {},
   "outputs": [
    {
     "data": {
      "text/plain": [
       "[['11:30', '12:00'], ['15:00', '16:00'], ['18:00', '18:30']]"
      ]
     },
     "execution_count": 7,
     "metadata": {},
     "output_type": "execute_result"
    }
   ],
   "source": [
    "#sample Input:\n",
    "a_Meetings=[['9:00','10:30'],['12:00','13:00'],['16:00','18:00']]\n",
    "a_timeBound=['9:00','20:00']\n",
    "b_Meetings=[['10:00','11:30'],['12:30','14:30'],['14:30','15:00'],['16:00','17:00']]\n",
    "b_timeBound=['10:00','18:30']\n",
    "slot=30\n",
    "\n",
    "available_TimeSlots(a_Meetings,b_Meetings,a_timeBound,b_timeBound,slot)"
   ]
  }
 ],
 "metadata": {
  "kernelspec": {
   "display_name": "Python 3",
   "language": "python",
   "name": "python3"
  },
  "language_info": {
   "codemirror_mode": {
    "name": "ipython",
    "version": 3
   },
   "file_extension": ".py",
   "mimetype": "text/x-python",
   "name": "python",
   "nbconvert_exporter": "python",
   "pygments_lexer": "ipython3",
   "version": "3.7.6rc1"
  }
 },
 "nbformat": 4,
 "nbformat_minor": 4
}
