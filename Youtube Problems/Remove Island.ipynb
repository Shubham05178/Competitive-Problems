{
 "cells": [
  {
   "cell_type": "markdown",
   "metadata": {},
   "source": [
    "# Remove Island -https://www.youtube.com/watch?v=4tYoVx0QoN0&t=229s"
   ]
  },
  {
   "cell_type": "code",
   "execution_count": 1,
   "metadata": {},
   "outputs": [],
   "source": [
    "def dfs(i,j,visited,matrix,rows,columns):\n",
    "    id_x=[0,0,1,-1]\n",
    "    id_y=[1,-1,0,0]\n",
    "    for k in range(4):\n",
    "        idx=i+id_x[k]\n",
    "        idy=j+id_y[k]\n",
    "        if idx>=0 and idx<rows and idy>=0 and idy<columns and visited[idx][idy]==0 and matrix[idx][idy]==1:\n",
    "            visited[idx][idy]=1\n",
    "            dfs(idx,idy,visited,matrix,rows,columns)\n",
    "\n",
    "        \n",
    "\n",
    "def removeIslands(matrix):\n",
    "\n",
    "    columns=len(matrix[0])\n",
    "    rows=len(matrix)\n",
    "    visited=[[0 for j in range(columns)] for i in range(rows)]\n",
    " \n",
    "    def rows_traversal(i):\n",
    "        for j in range(columns):\n",
    "            if visited[i][j]==0 and matrix[i][j]==1:\n",
    "                visited[i][j]=1\n",
    "                dfs(i,j,visited,matrix,rows,columns)\n",
    "    def columns_traversal(j):\n",
    "        for i in range(rows):\n",
    "            if visited[i][j]==0 and matrix[i][j]==1:\n",
    "                visited[i][j]=1\n",
    "                dfs(i,j,visited,matrix,rows,columns)\n",
    "    i=rows-1\n",
    "    rows_traversal(i)\n",
    "    \n",
    "    i=0\n",
    "    rows_traversal(i)\n",
    "    \n",
    "    j=0\n",
    "    columns_traversal(j)\n",
    "    \n",
    "    j=columns-1\n",
    "    columns_traversal(j)\n",
    "    return visited\n",
    "    "
   ]
  },
  {
   "cell_type": "code",
   "execution_count": 2,
   "metadata": {},
   "outputs": [],
   "source": [
    "input_=[[1,0,0,0,0,0],[0,1,0,1,1,1],[0,0,1,0,1,0],[1,1,0,0,1,0],[1,0,1,1,0,0],[1,0,0,0,0,1]]"
   ]
  },
  {
   "cell_type": "code",
   "execution_count": 3,
   "metadata": {},
   "outputs": [
    {
     "data": {
      "text/plain": [
       "[[1, 0, 0, 0, 0, 0],\n",
       " [0, 0, 0, 1, 1, 1],\n",
       " [0, 0, 0, 0, 1, 0],\n",
       " [1, 1, 0, 0, 1, 0],\n",
       " [1, 0, 0, 0, 0, 0],\n",
       " [1, 0, 0, 0, 0, 1]]"
      ]
     },
     "execution_count": 3,
     "metadata": {},
     "output_type": "execute_result"
    }
   ],
   "source": [
    "removeIslands(input_)"
   ]
  }
 ],
 "metadata": {
  "kernelspec": {
   "display_name": "Python 3",
   "language": "python",
   "name": "python3"
  },
  "language_info": {
   "codemirror_mode": {
    "name": "ipython",
    "version": 3
   },
   "file_extension": ".py",
   "mimetype": "text/x-python",
   "name": "python",
   "nbconvert_exporter": "python",
   "pygments_lexer": "ipython3",
   "version": "3.7.6rc1"
  }
 },
 "nbformat": 4,
 "nbformat_minor": 4
}
