{
 "cells": [
  {
   "cell_type": "markdown",
   "metadata": {},
   "source": [
    "# Code Problem- https://www.youtube.com/watch?v=iU5uB9pg7gM&t=983s"
   ]
  },
  {
   "cell_type": "markdown",
   "metadata": {},
   "source": [
    "Given the arrival and departure times of all trains that reach a railway station, the task is to find the minimum number of platforms required for the railway station so that no train waits. \n",
    "We are given two arrays that represent the arrival and departure times of trains that stop."
   ]
  },
  {
   "cell_type": "code",
   "execution_count": null,
   "metadata": {},
   "outputs": [],
   "source": [
    "#inputs\n",
    "arrival=[\"9:00\",\"9:40\",\"9:50\",\"11:00\",\"15:00\",\"18:00\"]\n",
    "departure=[\"9:10\",\"12:00\",\"11:20\",\"11:30\",\"19:00\",\"20:00\"]\n",
    "\n",
    "#output \n",
    "3\n"
   ]
  },
  {
   "cell_type": "markdown",
   "metadata": {},
   "source": [
    "# 1.Brute force approach"
   ]
  },
  {
   "cell_type": "code",
   "execution_count": 1,
   "metadata": {},
   "outputs": [
    {
     "name": "stdout",
     "output_type": "stream",
     "text": [
      "Minimum Number of Platforms Required =  3\n"
     ]
    }
   ],
   "source": [
    "\n",
    "def countPlatform(arrival,departure):\n",
    "    arr =[int(i.replace(\":\",\"\")) for i in arrival]\n",
    "    dep=[int(i.replace(\":\",\"\")) for i in departure]\n",
    "    mergedarray=arr+dep\n",
    "    mergedarray.sort()\n",
    "    count=0\n",
    "    result=0\n",
    "    for i in mergedarray:\n",
    "        if i in arr:\n",
    "            count+=1\n",
    "        if i in dep:\n",
    "            count-=1\n",
    "        if count>result:\n",
    "            result=count\n",
    "    return result\n",
    "#input\n",
    "arrival=[\"9:00\",\"9:40\",\"9:50\",\"11:00\",\"15:00\",\"18:00\"]\n",
    "departure=[\"9:10\",\"12:00\",\"11:20\",\"11:30\",\"19:00\",\"20:00\"]\n",
    "\n",
    "print(\"Minimum Number of Platforms Required = \",countPlatform(arrival,departure))"
   ]
  },
  {
   "cell_type": "markdown",
   "metadata": {},
   "source": [
    "# 2. Optimal Approach"
   ]
  },
  {
   "cell_type": "code",
   "execution_count": 2,
   "metadata": {},
   "outputs": [
    {
     "name": "stdout",
     "output_type": "stream",
     "text": [
      "Minimum Number of Platforms Required =  3\n"
     ]
    }
   ],
   "source": [
    "\n",
    "def countPlatformOptimal(arr, dep):\n",
    "    arr =[int(i.replace(\":\",\"\")) for i in arrival]\n",
    "    dep =[int(i.replace(\":\",\"\")) for i in departure]\n",
    "    arr.sort()\n",
    "    dep.sort()\n",
    "    \n",
    "    plat_needed = 1\n",
    "    result = 1\n",
    "    i = 1\n",
    "    j = 0\n",
    "    n=len(arr)\n",
    "    # Similar to merge , merge sort to process, all events in sorted order\n",
    "    while (i < n and j < n):\n",
    "    # If next event in sorted  order is arrival increment count of platforms needed\n",
    "        if (arr[i] <= dep[j]):\n",
    "            plat_needed += 1\n",
    "            i+= 1\n",
    "\n",
    "        elif (arr[i] > dep[j]):\n",
    "\n",
    "            plat_needed -= 1\n",
    "            j += 1\n",
    "\n",
    "        # Update result if needed\n",
    "        if (plat_needed > result):\n",
    "            result = plat_needed\n",
    "\n",
    "    return result\n",
    "\n",
    "\n",
    "#input\n",
    "arrival=[\"9:00\",\"9:40\",\"9:50\",\"11:00\",\"15:00\",\"18:00\"]\n",
    "departure=[\"9:10\",\"12:00\",\"11:20\",\"11:30\",\"19:00\",\"20:00\"]\n",
    "\n",
    "print(\"Minimum Number of Platforms Required = \",countPlatformOptimal(arrival, departure))\n"
   ]
  },
  {
   "cell_type": "code",
   "execution_count": null,
   "metadata": {},
   "outputs": [],
   "source": []
  }
 ],
 "metadata": {
  "kernelspec": {
   "display_name": "Python 3",
   "language": "python",
   "name": "python3"
  },
  "language_info": {
   "codemirror_mode": {
    "name": "ipython",
    "version": 3
   },
   "file_extension": ".py",
   "mimetype": "text/x-python",
   "name": "python",
   "nbconvert_exporter": "python",
   "pygments_lexer": "ipython3",
   "version": "3.7.6rc1"
  }
 },
 "nbformat": 4,
 "nbformat_minor": 4
}
