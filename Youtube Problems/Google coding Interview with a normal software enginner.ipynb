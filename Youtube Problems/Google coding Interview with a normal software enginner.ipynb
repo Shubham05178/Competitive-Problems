{
 "cells": [
  {
   "cell_type": "markdown",
   "metadata": {},
   "source": [
    "# Code problem \n",
    "https://www.youtube.com/watch?v=rw4s4M3hFfs&t=704s"
   ]
  },
  {
   "cell_type": "code",
   "execution_count": 1,
   "metadata": {},
   "outputs": [],
   "source": [
    "#input\n",
    "blocks=[\n",
    "       {\n",
    "    \"gym\":False,\n",
    "    \"school\":True,\n",
    "    \"store\":False\n",
    "    },\n",
    "    {\n",
    "        \"gym\":True,\n",
    "        \"school\":False,\n",
    "        \"store\":False\n",
    "    },\n",
    "   {\n",
    "    \"gym\":True,\n",
    "    \"school\":True,\n",
    "    \"store\":False\n",
    "    },    \n",
    "    {\n",
    "        \"gym\":False,\n",
    "        \"school\":True,\n",
    "        \"store\":False\n",
    "    },\n",
    "   {\n",
    "    \"gym\":False,\n",
    "    \"school\":True,\n",
    "    \"store\":True\n",
    "    }]\n",
    "reqs=[\"gym\",\"school\",\"store\"]"
   ]
  },
  {
   "cell_type": "code",
   "execution_count": 2,
   "metadata": {},
   "outputs": [
    {
     "name": "stdout",
     "output_type": "stream",
     "text": [
      "Block which has all requirements nearby is blockno:3 which is having the furthermost of distance 1 blocks\n"
     ]
    }
   ],
   "source": [
    "#length of blocks\n",
    "n= len(blocks)\n",
    "#no of requirements\n",
    "m= len(reqs)\n",
    "#initialization of constant MAX\n",
    "MAX=n*n\n",
    "#minimum distance\n",
    "min_dis=MAX \n",
    "#index of that block which is closer to every requirements in efficient way\n",
    "min_index=MAX \n",
    "#to store values of minimum distance along with respective furthermost distance [distance_of req1, distance_of req2 ,....,distance_of req m,max of all these distance]\n",
    "solve=[[] for i in range(n)] \n",
    "\n",
    "# forward iteration from left to right\n",
    "for i in range(n):\n",
    "    # to store result of ith block distances in form of [distance_of req1, distance_of req2 ,....,distance_of req m,max of all these distance]\n",
    "    # 'm'th index stores furthermost distance \n",
    "    intermediate_solve=[MAX for ii in range(m+1)]\n",
    "    for j in range(m):\n",
    "        if blocks[i][reqs[j]]:\n",
    "            intermediate_solve[j]=0\n",
    "        elif i >0:\n",
    "            intermediate_solve[j]=min(intermediate_solve[j], solve[i-1][j]+1)\n",
    "    solve[i]=intermediate_solve\n",
    "    solve[i][m]=max(solve[i][:m])\n",
    "    \n",
    "    \n",
    "#backward iteration from right to left\n",
    "\n",
    "for i in range(n-1,-1,-1):\n",
    "    if i<n-1:\n",
    "        for j in range(m):\n",
    "            solve[i][j]=min(solve[i+1][j]+1,solve[i][j])    \n",
    "        solve[i][m]=max(solve[i][:m])\n",
    "    \n",
    "    if solve[i][m]<min_dis:\n",
    "        min_dis=solve[i][m]\n",
    "        min_index=i\n",
    "\n",
    "print(f\"Block which has all requirements nearby is blockno:{min_index} which is having the furthermost of distance {min_dis} blocks\")"
   ]
  },
  {
   "cell_type": "code",
   "execution_count": null,
   "metadata": {},
   "outputs": [],
   "source": []
  }
 ],
 "metadata": {
  "kernelspec": {
   "display_name": "Python 3",
   "language": "python",
   "name": "python3"
  },
  "language_info": {
   "codemirror_mode": {
    "name": "ipython",
    "version": 3
   },
   "file_extension": ".py",
   "mimetype": "text/x-python",
   "name": "python",
   "nbconvert_exporter": "python",
   "pygments_lexer": "ipython3",
   "version": "3.7.6rc1"
  }
 },
 "nbformat": 4,
 "nbformat_minor": 4
}
