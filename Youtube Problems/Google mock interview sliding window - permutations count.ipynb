{
 "cells": [
  {
   "cell_type": "markdown",
   "metadata": {},
   "source": [
    "# Code Problem- https://www.youtube.com/watch?v=JHzX-57dgn0&t=2393s\n"
   ]
  },
  {
   "cell_type": "markdown",
   "metadata": {},
   "source": [
    "# 1.Bruteforce Method\n"
   ]
  },
  {
   "cell_type": "code",
   "execution_count": 1,
   "metadata": {},
   "outputs": [],
   "source": [
    "#function of creation of map of small string\n",
    "def createMap(small):\n",
    "    smallmap={}\n",
    "    for i in small:\n",
    "        smallmap[i]=smallmap.get(i, 0)+1\n",
    "    return smallmap\n",
    "\n",
    "# function of check smallmap with bi \n",
    "def checkMap(smallmap,bigstring):\n",
    "    for i in bigstring:\n",
    "        if  i in smallmap:\n",
    "            smallmap[i]-=1\n",
    "    valuesofdic=list(smallmap.values())\n",
    "    if max(valuesofdic)==min(valuesofdic) and max(valuesofdic)==0:\n",
    "        return True\n",
    "    return False\n",
    "\n",
    "#function of permuations count\n",
    "def permuatationsContatinedInString(smallString,bigString):\n",
    "    lenBig=len(bigString)\n",
    "    lenSmall=len(smallString)\n",
    "    count=0\n",
    "    smallMap=createMap(smallString)\n",
    "    for i in range(lenBig-lenSmall+1):\n",
    "        if checkMap(smallMap.copy(),bigString[i:i+lenSmall]):\n",
    "            count+=1\n",
    "\n",
    "\n",
    "\n",
    "#input\n",
    "bigString=\"cbabcacabca\"\n",
    "smallString=\"abc\"\n",
    "permuatationsContatinedInString(smallString,bigString)"
   ]
  },
  {
   "cell_type": "markdown",
   "metadata": {},
   "source": [
    "# 2.Optimal Method"
   ]
  },
  {
   "cell_type": "code",
   "execution_count": 2,
   "metadata": {},
   "outputs": [
    {
     "name": "stdout",
     "output_type": "stream",
     "text": [
      "3\n"
     ]
    },
    {
     "data": {
      "text/plain": [
       "5"
      ]
     },
     "execution_count": 2,
     "metadata": {},
     "output_type": "execute_result"
    }
   ],
   "source": [
    "#optimal function to  approach to this problem\n",
    "def permutationsCountInString(smallString,bigString):\n",
    "    #variable initialization\n",
    "    lenBig=len(bigString)\n",
    "    lenSmall=len(smallString)\n",
    "    bigMap={}\n",
    "    smallMap={}\n",
    "    \n",
    "    count=0\n",
    "    ctr=0\n",
    "    #creating map of smallStringcount\n",
    "    for i in smallString:\n",
    "        smallMap[i]=smallMap.get(i, 0)+1\n",
    "    print(len(smallMap))\n",
    "    #taking a frame of sliding window and counting the variable in bigString\n",
    "    #if it matches the count of character in small string increment the ctr.\n",
    "    for i in range(lenSmall):\n",
    "        bigMap[bigString[i]]=bigMap.get(bigString[i],0)+1\n",
    "        if smallMap[bigString[i]]==bigMap[bigString[i]]:\n",
    "            ctr+=1\n",
    "    \n",
    "    if ctr==len(smallMap):\n",
    "        count+=1\n",
    "    \n",
    "    for i in range(lenBig-lenSmall):\n",
    "        bigMap[bigString[i+lenSmall]]=bigMap.get(bigString[i+lenSmall],0)+1\n",
    "        if bigMap[bigString[i]]==smallMap.get(bigString[i],0):\n",
    "            ctr-=1\n",
    "        if bigMap[bigString[i+lenSmall]]==smallMap.get(bigString[i+lenSmall],0):\n",
    "            ctr+=1\n",
    "        bigMap[bigString[i]]-=1\n",
    "        if ctr==len(smallMap):\n",
    "            count+=1\n",
    "    \n",
    "    return count\n",
    "\n",
    "\n",
    "#input \n",
    "bigString=\"cbaabcacabca\"\n",
    "smallString=\"aabc\"\n",
    "#calling function\n",
    "permutationsCountInString(smallString,bigString)"
   ]
  },
  {
   "cell_type": "code",
   "execution_count": 3,
   "metadata": {},
   "outputs": [
    {
     "name": "stdout",
     "output_type": "stream",
     "text": [
      "3\n"
     ]
    },
    {
     "data": {
      "text/plain": [
       "6"
      ]
     },
     "execution_count": 3,
     "metadata": {},
     "output_type": "execute_result"
    }
   ],
   "source": [
    "permutationsCountInString(\"abc\",\"cbaabcacabca\")"
   ]
  }
 ],
 "metadata": {
  "kernelspec": {
   "display_name": "Python 3",
   "language": "python",
   "name": "python3"
  },
  "language_info": {
   "codemirror_mode": {
    "name": "ipython",
    "version": 3
   },
   "file_extension": ".py",
   "mimetype": "text/x-python",
   "name": "python",
   "nbconvert_exporter": "python",
   "pygments_lexer": "ipython3",
   "version": "3.7.6rc1"
  }
 },
 "nbformat": 4,
 "nbformat_minor": 4
}
