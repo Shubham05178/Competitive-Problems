{
 "cells": [
  {
   "cell_type": "code",
   "execution_count": null,
   "metadata": {},
   "outputs": [],
   "source": [
    "\"\"\"\n",
    "\n",
    "Link to Ques: https://codingcompetitions.withgoogle.com/kickstart/round/000000000019ffc7/00000000001d3f56#problem\n",
    "Author:Shubham Nagaria\n",
    "Date: 10 October 2021\n",
    "\n",
    "\"\"\"\n",
    "\n",
    "\n",
    "testCases=int(input())\n",
    "for idx in range(1,testCases+1):\n",
    "    N, B = map(int, input().split())\n",
    "    A = list(map(int, input().split()))\n",
    "    A.sort()\n",
    "    count=0\n",
    "    cost=0\n",
    "    for jdx in range(N):\n",
    "        if cost+A[jdx]<=B :\n",
    "            cost=cost+A[jdx]\n",
    "            count+=1\n",
    "    print(\"Case #\"+str(idx)+\": \"+str(count))\n"
   ]
  }
 ],
 "metadata": {
  "kernelspec": {
   "display_name": "Python 3",
   "language": "python",
   "name": "python3"
  },
  "language_info": {
   "codemirror_mode": {
    "name": "ipython",
    "version": 3
   },
   "file_extension": ".py",
   "mimetype": "text/x-python",
   "name": "python",
   "nbconvert_exporter": "python",
   "pygments_lexer": "ipython3",
   "version": "3.7.6rc1"
  }
 },
 "nbformat": 4,
 "nbformat_minor": 4
}
