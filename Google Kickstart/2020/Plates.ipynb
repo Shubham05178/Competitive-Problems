{
 "cells": [
  {
   "cell_type": "code",
   "execution_count": 1,
   "metadata": {},
   "outputs": [
    {
     "name": "stdout",
     "output_type": "stream",
     "text": [
      "1\n",
      "2 4 5\n",
      "10 10 100 30\n",
      "80 50 10 50\n",
      "Case #1: 250\n"
     ]
    }
   ],
   "source": [
    "\"\"\"\n",
    "\n",
    "Link to Ques: https://codingcompetitions.withgoogle.com/kickstart/round/000000000019ffc7/\n",
    "Author:Shubham Nagaria\n",
    "Date: 11 October 2021\n",
    "\n",
    "\"\"\"\n",
    "\n",
    "def plates():\n",
    "    N, K, P = map(int, input().strip().split())\n",
    "    stacks=list(list(map(int, input().strip().split())) for _ in range(N))\n",
    "    prefixes=[]\n",
    "    \n",
    "    for stk in stacks:\n",
    "        prefix = [0]\n",
    "        for x in stk:\n",
    "            prefix.append(prefix[-1]+x)\n",
    "        prefixes.append(prefix)\n",
    "    dp = [0]*(P+1)\n",
    "    for i in range(N):\n",
    "        new_dp = [0]*(P+1)\n",
    "        for j in range(P+1):\n",
    "            for p in range(min(j, K)+1):\n",
    "                new_dp[j] = max(new_dp[j], dp[j-p] + prefixes[i][p])\n",
    "        dp = new_dp\n",
    "    return dp[-1]\n",
    "\n",
    "for case in range(int(input())):\n",
    "    print('Case #%d: %s' % (case+1, plates()))"
   ]
  },
  {
   "cell_type": "code",
   "execution_count": null,
   "metadata": {},
   "outputs": [],
   "source": [
    "\n",
    "2\n",
    "2 4 5\n",
    "10 10 100 30\n",
    "80 50 10 50\n",
    "Case #1: 250\n",
    "3 2 3\n",
    "80 80\n",
    "15 50\n",
    "20 10\n",
    "Case #2: 180"
   ]
  }
 ],
 "metadata": {
  "kernelspec": {
   "display_name": "Python 3",
   "language": "python",
   "name": "python3"
  },
  "language_info": {
   "codemirror_mode": {
    "name": "ipython",
    "version": 3
   },
   "file_extension": ".py",
   "mimetype": "text/x-python",
   "name": "python",
   "nbconvert_exporter": "python",
   "pygments_lexer": "ipython3",
   "version": "3.7.6rc1"
  }
 },
 "nbformat": 4,
 "nbformat_minor": 4
}
